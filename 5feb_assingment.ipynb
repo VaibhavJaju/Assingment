{
 "cells": [
  {
   "cell_type": "code",
   "execution_count": 1,
   "id": "b767bd78-a5fd-4c8d-adf1-2b16047747a7",
   "metadata": {},
   "outputs": [],
   "source": [
    "\"\"\"Q1. Explain Class and Object with respect to Object-Oriented Programming. \n",
    "Give a suitable example.\"\"\"\n",
    "\n",
    "\"\"\"A class is a collection of objects. \n",
    "A class contains the blueprints or the prototype from which the objects are being created. \n",
    "It is a logical entity that contains some attributes and methods.\"\"\"\n",
    "\n",
    "\"\"\"The object is an entity that has a state and behavior associated with it\"\"\"\n",
    "\n",
    "class Dog:\n",
    "    species = \"Canis familiaris\"\n",
    "\n",
    "    def __init__(self, name, age):\n",
    "        self.name = name\n",
    "        self.age = age\n"
   ]
  },
  {
   "cell_type": "code",
   "execution_count": 2,
   "id": "5651da1b-b707-4951-b1e6-da0226afbdd6",
   "metadata": {},
   "outputs": [
    {
     "data": {
      "text/plain": [
       "'The four pillars of OOPs are \\nInheritance, Polymorphism, Encapsulation and Abstraction.'"
      ]
     },
     "execution_count": 2,
     "metadata": {},
     "output_type": "execute_result"
    }
   ],
   "source": [
    "\"\"\"Q2. Name the four pillars of OOPs. \"\"\"\n",
    "\"\"\"The four pillars of OOPs are \n",
    "Inheritance, Polymorphism, Encapsulation and Abstraction.\"\"\""
   ]
  },
  {
   "cell_type": "code",
   "execution_count": null,
   "id": "4d773ce1-cb47-487d-8e69-c65a3ef83873",
   "metadata": {},
   "outputs": [],
   "source": [
    "\"\"\"Q3 Explain why the __init__() function is used. Give a suitable example.\"\"\"\n",
    "\n",
    "\"\"\"Ans All classes have a function called __init__(), which is always executed when the class is\n",
    "being initiated. Use the __init__() function to assign values to object properties,\n",
    "or other operations that are necessary to do when the object is being . In simple word The self\n",
    "parameter is a reference to the current instance of the class,\n",
    "and is used to access variables that belong to the class.\"\"\"\n"
   ]
  },
  {
   "cell_type": "code",
   "execution_count": 1,
   "id": "e8ac673e-f702-402a-9763-0e32e57f7e23",
   "metadata": {},
   "outputs": [
    {
     "name": "stdout",
     "output_type": "stream",
     "text": [
      "vaibhav\n",
      "20\n"
     ]
    }
   ],
   "source": [
    "\"\"\"Example\"\"\"\n",
    "class Person:\n",
    "    \n",
    "    def __init__(self, name, age):\n",
    "        self.name = name\n",
    "        self.age = age\n",
    "\n",
    "p1 = Person(\"vaibhav\", 20)\n",
    "\n",
    "print(p1.name)\n",
    "print(p1.age) "
   ]
  },
  {
   "cell_type": "code",
   "execution_count": 3,
   "id": "e71db84c-81a0-416f-9fa1-3ede93a5660b",
   "metadata": {},
   "outputs": [
    {
     "data": {
      "text/plain": [
       "'The self keyword is used to represent an instance (object) \\nof the given class'"
      ]
     },
     "execution_count": 3,
     "metadata": {},
     "output_type": "execute_result"
    }
   ],
   "source": [
    "\"\"\"Q4. Why self is used in OOPs?\"\"\"\n",
    "\n",
    "\"\"\"The self keyword is used to represent an instance (object) \n",
    "of the given class\"\"\""
   ]
  },
  {
   "cell_type": "code",
   "execution_count": null,
   "id": "d4b0699e-def2-4525-b625-a277d0039055",
   "metadata": {},
   "outputs": [],
   "source": [
    "\"\"\"Question 5\"\"\"\n"
   ]
  }
 ],
 "metadata": {
  "kernelspec": {
   "display_name": "Python 3 (ipykernel)",
   "language": "python",
   "name": "python3"
  },
  "language_info": {
   "codemirror_mode": {
    "name": "ipython",
    "version": 3
   },
   "file_extension": ".py",
   "mimetype": "text/x-python",
   "name": "python",
   "nbconvert_exporter": "python",
   "pygments_lexer": "ipython3",
   "version": "3.10.8"
  }
 },
 "nbformat": 4,
 "nbformat_minor": 5
}
