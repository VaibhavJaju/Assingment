{
 "cells": [
  {
   "cell_type": "markdown",
   "id": "697b6cd1-1778-4e87-afda-d48dbd1505ff",
   "metadata": {},
   "source": [
    "\n",
    "# Q1. Is there any difference in the data type of variables list_ and array_list? If there is then write a code to print the data types of both the variables."
   ]
  },
  {
   "cell_type": "markdown",
   "id": "98219c2f-7202-45ee-b1b3-7845759fdca3",
   "metadata": {},
   "source": [
    "Yes, there is a difference in the data type of the variables list_ and array_list.\n",
    "\n",
    "list_ is a Python list that contains string objects, while array_list is a NumPy array that also contains string objects. However, the data type of the objects in array_list is different from the data type of objects in list_.\n",
    "\n",
    "The objects in list_ are of type str, while the objects in array_list are of type numpy.str_.\n",
    "\n",
    "Here is the code to print the data types of both the variables:"
   ]
  },
  {
   "cell_type": "code",
   "execution_count": 1,
   "id": "873fe266-e3e3-4558-bb65-51bf282a029c",
   "metadata": {},
   "outputs": [
    {
     "name": "stdout",
     "output_type": "stream",
     "text": [
      "Data type of list_: <class 'list'>\n",
      "Data type of data in list_: <class 'str'>\n",
      "Data type of array_list: <class 'numpy.ndarray'>\n",
      "Data type of data in  array_list: <class 'numpy.str_'>\n"
     ]
    }
   ],
   "source": [
    "import numpy as np\n",
    "\n",
    "list_ = ['1', '2', '3', '4', '5']\n",
    "array_list = np.array(object=list_)\n",
    "\n",
    "print(\"Data type of list_:\", type(list_))\n",
    "print(\"Data type of data in list_:\", type(list_[0]))\n",
    "print(\"Data type of array_list:\", type(array_list))\n",
    "print(\"Data type of data in  array_list:\", type(array_list[0]))"
   ]
  },
  {
   "cell_type": "markdown",
   "id": "9791a7b6-2e56-48c4-9759-a9987592dad1",
   "metadata": {},
   "source": [
    "# Q2. Write a code to print the data type of each and every element of both the variables list_ and arra_list."
   ]
  },
  {
   "cell_type": "code",
   "execution_count": 2,
   "id": "6843c222-a852-48dd-8d0e-63ba83b29d04",
   "metadata": {},
   "outputs": [
    {
     "name": "stdout",
     "output_type": "stream",
     "text": [
      "Data type of 1 in _list is <class 'str'>\n",
      "Data type of 2 in _list is <class 'str'>\n",
      "Data type of 3 in _list is <class 'str'>\n",
      "Data type of 4 in _list is <class 'str'>\n",
      "Data type of 5 in _list is <class 'str'>\n",
      "\n",
      "Data type of 1 in array_list is <class 'numpy.str_'>\n",
      "Data type of 2 in array_list is <class 'numpy.str_'>\n",
      "Data type of 3 in array_list is <class 'numpy.str_'>\n",
      "Data type of 4 in array_list is <class 'numpy.str_'>\n",
      "Data type of 5 in array_list is <class 'numpy.str_'>\n"
     ]
    }
   ],
   "source": [
    "import numpy as np\n",
    "\n",
    "list_ = ['1', '2', '3', '4', '5']\n",
    "array_list = np.array(object=list_)\n",
    "\n",
    "#Printing data types of all element in list_\n",
    "for ele in list_:\n",
    "    print(f\"Data type of {ele} in _list is {type(ele)}\")\n",
    "    \n",
    "print()\n",
    "\n",
    "#Printing data types of all element in array_list\n",
    "for ele in array_list:\n",
    "     print(f\"Data type of {ele} in array_list is {type(ele)}\")"
   ]
  },
  {
   "cell_type": "markdown",
   "id": "6fbac535-4c07-43b8-87e3-6b74eeccd58e",
   "metadata": {},
   "source": [
    "# Q3. Considering the following changes in the variable, array_list: array_list = np.array(object = list_, dtype = int) Will there be any difference in the data type of the elements present in both the variables, list_ and array_list? If so then print the data types of each and every element present in both the variables, list_and arra_list."
   ]
  },
  {
   "cell_type": "markdown",
   "id": "e63b8dba-66b9-485c-99db-5ec36adc557b",
   "metadata": {},
   "source": [
    "\n",
    "Yes, there will be a difference in the data type of the elements present in the variables list_ and array_list.\n",
    "\n",
    "The dtype=int parameter in np.array(object=list_, dtype=int) specifies that the data type of the elements in the resulting NumPy array should be integers. Since the input sequence (list_) contains strings, NumPy will try to convert each string element to an integer. If any element in the input sequence cannot be converted to an integer, a ValueError will be raised.\n",
    "\n",
    "Here is the code to print the data types of each and every element present in both the variables, list_ and array_list after the change:"
   ]
  },
  {
   "cell_type": "code",
   "execution_count": 3,
   "id": "c07fc453-7ee3-4245-b538-ba039a7c4d12",
   "metadata": {},
   "outputs": [
    {
     "name": "stdout",
     "output_type": "stream",
     "text": [
      "Data type of 1 in _list is <class 'str'>\n",
      "Data type of 2 in _list is <class 'str'>\n",
      "Data type of 3 in _list is <class 'str'>\n",
      "Data type of 4 in _list is <class 'str'>\n",
      "Data type of 5 in _list is <class 'str'>\n",
      "\n",
      "Data type of 1 in array_list is <class 'numpy.int64'>\n",
      "Data type of 2 in array_list is <class 'numpy.int64'>\n",
      "Data type of 3 in array_list is <class 'numpy.int64'>\n",
      "Data type of 4 in array_list is <class 'numpy.int64'>\n",
      "Data type of 5 in array_list is <class 'numpy.int64'>\n"
     ]
    }
   ],
   "source": [
    "import numpy as np\n",
    "\n",
    "list_ = ['1', '2', '3', '4', '5']\n",
    "array_list = np.array(object = list_, dtype = int)\n",
    "\n",
    "#Printing data types of all element in list_\n",
    "for ele in list_:\n",
    "    print(f\"Data type of {ele} in _list is {type(ele)}\")\n",
    "    \n",
    "print()\n",
    "\n",
    "#Printing data types of all element in array_list\n",
    "for ele in array_list:\n",
    "     print(f\"Data type of {ele} in array_list is {type(ele)}\")"
   ]
  },
  {
   "cell_type": "markdown",
   "id": "67df31e2-cb15-4fd9-b968-c072239014c0",
   "metadata": {},
   "source": [
    "# Q4. Write a code to find the following characteristics of variable, num_array:\n",
    "# (i) shape\n",
    "# (ii) size"
   ]
  },
  {
   "cell_type": "code",
   "execution_count": 4,
   "id": "fc08f0aa-fdb4-4633-9270-f11875acb790",
   "metadata": {},
   "outputs": [
    {
     "name": "stdout",
     "output_type": "stream",
     "text": [
      "Shape of num_array: (2, 3)\n",
      "Size of num_array: 6\n"
     ]
    }
   ],
   "source": [
    "import numpy as np\n",
    "\n",
    "num_list = [[1, 2, 3], [4, 5, 6]]\n",
    "num_array = np.array(object=num_list)\n",
    "\n",
    "# Find the shape of num_array\n",
    "print(\"Shape of num_array:\", num_array.shape)\n",
    "\n",
    "# Find the size of num_array\n",
    "print(\"Size of num_array:\", num_array.size)"
   ]
  },
  {
   "cell_type": "markdown",
   "id": "16b9d605-28fc-405a-80ca-ca07c3fc1df1",
   "metadata": {},
   "source": [
    "# Q5. Write a code to create numpy array of 3*3 matrix containing zeros only, using a numpy array creation function. [Hint: The size of the array will be 9 and the shape will be (3,3).]"
   ]
  },
  {
   "cell_type": "code",
   "execution_count": 5,
   "id": "d318829c-edf2-4bab-9117-c1879f46a407",
   "metadata": {},
   "outputs": [
    {
     "name": "stdout",
     "output_type": "stream",
     "text": [
      "[[0. 0. 0.]\n",
      " [0. 0. 0.]\n",
      " [0. 0. 0.]]\n"
     ]
    }
   ],
   "source": [
    "import numpy as np\n",
    "\n",
    "# Create a NumPy array of 3x3 matrix containing zeros only\n",
    "zeros_array = np.zeros((3, 3))\n",
    "\n",
    "# Print the array\n",
    "print(zeros_array)"
   ]
  },
  {
   "cell_type": "markdown",
   "id": "896ea2fa-32e5-4d8d-9cd9-10c5908810f4",
   "metadata": {},
   "source": [
    "# Q6. Create an identity matrix of shape (5,5) using numpy functions? [Hint: An identity matrix is a matrix containing 1 diagonally and other elements will be 0.]"
   ]
  },
  {
   "cell_type": "code",
   "execution_count": 6,
   "id": "ac06817a-a441-4b24-bf4b-5bccf912a185",
   "metadata": {},
   "outputs": [
    {
     "name": "stdout",
     "output_type": "stream",
     "text": [
      "[[1. 0. 0. 0. 0.]\n",
      " [0. 1. 0. 0. 0.]\n",
      " [0. 0. 1. 0. 0.]\n",
      " [0. 0. 0. 1. 0.]\n",
      " [0. 0. 0. 0. 1.]]\n"
     ]
    }
   ],
   "source": [
    "import numpy as np\n",
    "\n",
    "# Create an identity matrix of shape (5, 5)\n",
    "identity_matrix = np.eye(5)\n",
    "\n",
    "# Print the matrix\n",
    "print(identity_matrix)\n"
   ]
  },
  {
   "cell_type": "code",
   "execution_count": null,
   "id": "2151aace-ebea-44c2-a09a-898960df4f8f",
   "metadata": {},
   "outputs": [],
   "source": []
  }
 ],
 "metadata": {
  "kernelspec": {
   "display_name": "Python 3 (ipykernel)",
   "language": "python",
   "name": "python3"
  },
  "language_info": {
   "codemirror_mode": {
    "name": "ipython",
    "version": 3
   },
   "file_extension": ".py",
   "mimetype": "text/x-python",
   "name": "python",
   "nbconvert_exporter": "python",
   "pygments_lexer": "ipython3",
   "version": "3.10.8"
  }
 },
 "nbformat": 4,
 "nbformat_minor": 5
}
