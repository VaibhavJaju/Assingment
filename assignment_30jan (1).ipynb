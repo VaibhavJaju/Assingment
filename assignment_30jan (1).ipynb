{
 "cells": [
  {
   "cell_type": "code",
   "execution_count": 6,
   "id": "eccf7c5c-9a2b-4e9f-8988-864677d7f0e6",
   "metadata": {},
   "outputs": [],
   "source": [
    "#Question 1\n",
    "#ANS\n",
    "a = int(input(\"Enter the marks\"))\n",
    "if a>90:\n",
    "     print(\"You got the A grade\")\n",
    "elif a<=90 and a>80:\n",
    "    print(\"You got the B grade\")\n",
    "elif a<=80 and a>60:\n",
    "     print(\"You got the C grade\")\n",
    "else:\n",
    "    print(\"You got the D garde\")"
   ]
  },
  {
   "cell_type": "code",
   "execution_count": 8,
   "id": "7b1c2ba2-727f-4797-b7f6-c0c427cb1874",
   "metadata": {},
   "outputs": [
    {
     "name": "stdin",
     "output_type": "stream",
     "text": [
      "Enter the bike price 25435\n"
     ]
    },
    {
     "name": "stdout",
     "output_type": "stream",
     "text": [
      "You have to pay 5% tax\n"
     ]
    }
   ],
   "source": [
    "#Question 2\n",
    "#ANS\n",
    "bike_price = int(input(\"Enter the bike price\"))\n",
    "if bike_price>100000:\n",
    "    print(\"You have to pay 15% tax\")\n",
    "elif bike_price>50000 and bike_price<=100000:\n",
    "    print(\"You have to pay 10% tax\")\n",
    "else:\n",
    "    print(\"You have to pay 5% tax\")"
   ]
  },
  {
   "cell_type": "code",
   "execution_count": 9,
   "id": "dfcd92e3-01d8-42b8-87d3-b24dfd2955fc",
   "metadata": {},
   "outputs": [
    {
     "name": "stdin",
     "output_type": "stream",
     "text": [
      "Enter the city name Jaipur\n"
     ]
    },
    {
     "name": "stdout",
     "output_type": "stream",
     "text": [
      "The monument of city is: Jal Mahal\n"
     ]
    }
   ],
   "source": [
    "#Question 3\n",
    "#ANS\n",
    "city_name = input(\"Enter the city name\")\n",
    "if city_name == \"Delhi\":\n",
    "    print(\"The monument of city is: Red Fort\")\n",
    "elif city_name == \"Agra\":\n",
    "    print(\"The monument of city is: Taj Mahal\")\n",
    "elif city_name == \"Jaipur\":\n",
    "    print(\"The monument of city is: Jal Mahal\")"
   ]
  },
  {
   "cell_type": "code",
   "execution_count": 10,
   "id": "2b050e6b-8a9d-4101-9bdd-02f1cf591da3",
   "metadata": {},
   "outputs": [
    {
     "name": "stdin",
     "output_type": "stream",
     "text": [
      "Enter the Number:  21\n"
     ]
    },
    {
     "name": "stdout",
     "output_type": "stream",
     "text": [
      "1\n"
     ]
    }
   ],
   "source": [
    "#Question 4\n",
    "#ANS\n",
    "number = int(input(\"Enter the Number: \"))\n",
    "count = 0\n",
    "while number > 10:\n",
    "    number = number/3\n",
    "    count +=1\n",
    "print(count)"
   ]
  },
  {
   "cell_type": "code",
   "execution_count": 11,
   "id": "1a2f8698-4644-4d2d-a8c3-a0e1872395a5",
   "metadata": {},
   "outputs": [],
   "source": [
    "#QUESTION 5\n",
    "#Answer\n",
    "#\"When you don't know how many times your loop will run then you do while loop\"\n",
    "\n",
    "user=int(input('Enter the number: '))\n",
    "count = 0\n",
    "while user <= 10:\n",
    "    user = user / 3\n",
    "    count += 1\n",
    "print(count)\n"
   ]
  },
  {
   "cell_type": "code",
   "execution_count": 12,
   "id": "5f6c0e32-9f6a-40eb-958e-b52cd997740f",
   "metadata": {},
   "outputs": [],
   "source": [
    "#Question 6\n",
    "#Answer\n",
    "num = int(input('Enter number of rows : '))\n",
    "i = 1\n",
    "while i <= num:\n",
    "    j = 1\n",
    "    while j <= i:\n",
    "        print(\"*\", end = \" \")\n",
    "        j += 1\n",
    "    print()\n",
    "    i += 1"
   ]
  },
  {
   "cell_type": "code",
   "execution_count": 13,
   "id": "73f09077-6b3f-4a85-95a0-4599c44ac2ec",
   "metadata": {},
   "outputs": [
    {
     "name": "stdout",
     "output_type": "stream",
     "text": [
      "10\n",
      "9\n",
      "8\n",
      "7\n",
      "6\n",
      "5\n",
      "4\n",
      "3\n",
      "2\n",
      "1\n"
     ]
    }
   ],
   "source": [
    "#Question 7 and Question 7\n",
    "#Answer\n",
    "i=10\n",
    "while i>0:\n",
    "    print(i)\n",
    "    i = i - 1\n"
   ]
  },
  {
   "cell_type": "code",
   "execution_count": null,
   "id": "6d67c6a7-9bc7-408d-8d61-78d2bd6db829",
   "metadata": {},
   "outputs": [],
   "source": []
  }
 ],
 "metadata": {
  "kernelspec": {
   "display_name": "Python 3 (ipykernel)",
   "language": "python",
   "name": "python3"
  },
  "language_info": {
   "codemirror_mode": {
    "name": "ipython",
    "version": 3
   },
   "file_extension": ".py",
   "mimetype": "text/x-python",
   "name": "python",
   "nbconvert_exporter": "python",
   "pygments_lexer": "ipython3",
   "version": "3.10.8"
  }
 },
 "nbformat": 4,
 "nbformat_minor": 5
}
