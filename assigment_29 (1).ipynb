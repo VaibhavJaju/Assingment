{
 "cells": [
  {
   "cell_type": "code",
   "execution_count": 1,
   "id": "e3817d70-dd42-4e3c-887c-9a3c97439759",
   "metadata": {},
   "outputs": [],
   "source": [
    "#Question 1 \n",
    "\"\"\"Guido van Rossum\"\"\""
   ]
  },
  {
   "cell_type": "code",
   "execution_count": 2,
   "id": "8dde155a-2622-40af-b4ed-8b7a60c4f111",
   "metadata": {},
   "outputs": [],
   "source": [
    "#Question 2\n",
    "\"\"\"Python is multi-paradigm programming language. Python supports objcet oriented programming along with structured programming.\"\"\""
   ]
  },
  {
   "cell_type": "code",
   "execution_count": 3,
   "id": "74066de0-e576-4bbc-b4da-cf6f35615622",
   "metadata": {},
   "outputs": [],
   "source": [
    "#Question 3\n",
    "\"\"\"YES\"\"\""
   ]
  },
  {
   "cell_type": "code",
   "execution_count": 4,
   "id": "b73b2c72-c4a2-463d-a812-aed208d834e3",
   "metadata": {},
   "outputs": [],
   "source": [
    "#Question 4\n",
    "\"\"\".py\"\"\""
   ]
  },
  {
   "cell_type": "code",
   "execution_count": 5,
   "id": "9cfaa2ec-cee4-4a15-b0bc-7fa4fdfe7d99",
   "metadata": {},
   "outputs": [],
   "source": [
    "#Question 5\n",
    "\"\"\"Interpreted\"\"\""
   ]
  },
  {
   "cell_type": "code",
   "execution_count": 6,
   "id": "14d025cf-72cb-4ef3-80da-c0dc6768e8bb",
   "metadata": {},
   "outputs": [],
   "source": [
    "#Question 6\n",
    "\"\"\"Indentation\"\"\""
   ]
  },
  {
   "cell_type": "code",
   "execution_count": 7,
   "id": "9a42ef34-d6b1-4259-b56f-53d12d1f1eaf",
   "metadata": {},
   "outputs": [],
   "source": [
    "#Question 7\n",
    "\"\"\"single # character\"\"\""
   ]
  },
  {
   "cell_type": "code",
   "execution_count": 8,
   "id": "33bb1595-8d7f-4b8e-875a-6ec727865777",
   "metadata": {},
   "outputs": [],
   "source": [
    "#Question 8\n",
    "\"\"\"sys. version\"\"\""
   ]
  },
  {
   "cell_type": "code",
   "execution_count": 9,
   "id": "1236075e-a2c1-4818-b191-7469eab331b0",
   "metadata": {},
   "outputs": [],
   "source": [
    "#Question 9\n",
    "\"\"\"Lmbda\"\"\""
   ]
  },
  {
   "cell_type": "code",
   "execution_count": 10,
   "id": "10500e1d-4b94-4252-8a95-73fe58d11bd6",
   "metadata": {},
   "outputs": [],
   "source": [
    "#Question 10\n",
    "\"\"\"preferred installer program\"\"\""
   ]
  },
  {
   "cell_type": "code",
   "execution_count": 11,
   "id": "f1de966e-391c-4b91-bfa4-5c7f00f9692b",
   "metadata": {},
   "outputs": [],
   "source": [
    "#Question 11\n",
    "\"\"\"print(), type(), input() and many more\"\"\""
   ]
  },
  {
   "cell_type": "code",
   "execution_count": 12,
   "id": "be05bbd8-d37d-41ba-b1e4-b0da6c24580d",
   "metadata": {},
   "outputs": [],
   "source": [
    "#Question 12\n",
    "\"\"\"79 Characters\"\"\""
   ]
  },
  {
   "cell_type": "code",
   "execution_count": 13,
   "id": "3ed7664b-6d07-41a6-8b47-663d79bbc98c",
   "metadata": {},
   "outputs": [],
   "source": [
    "#Question 13\n",
    "\"\"\"It is easy to learn, Hundreads of python libraries and Frameworks and many more\"\"\""
   ]
  },
  {
   "cell_type": "code",
   "execution_count": 14,
   "id": "ee14715d-70f7-4982-8914-174055f81d71",
   "metadata": {},
   "outputs": [],
   "source": [
    "#Question 14\n",
    "\"\"\"It is managed by a private heap containing all Python objects and data structures\"\"\""
   ]
  },
  {
   "cell_type": "code",
   "execution_count": 15,
   "id": "028fdf38-fc5c-4ac8-b312-9ff94d648106",
   "metadata": {},
   "outputs": [],
   "source": [
    "#Question 15\n",
    "\"\"\"In the section entitled User Variables, double-click on the entry that says Path. Another window will pop up showing a list of paths. Click the New button and paste the path to your Python executable there. Once that's inserted, select your newly added path and click the Move Up button until it's at the top\"\"\""
   ]
  },
  {
   "cell_type": "code",
   "execution_count": 16,
   "id": "885e3ce9-84d6-4bd4-806f-c7d1ff725ec1",
   "metadata": {},
   "outputs": [],
   "source": [
    "#Question 16\n",
    "\"\"'YES\"\"\""
   ]
  },
  {
   "cell_type": "code",
   "execution_count": null,
   "id": "8c57c3b6-d891-4bf7-ba40-33066cb7d453",
   "metadata": {},
   "outputs": [],
   "source": []
  }
 ],
 "metadata": {
  "kernelspec": {
   "display_name": "Python 3 (ipykernel)",
   "language": "python",
   "name": "python3"
  },
  "language_info": {
   "codemirror_mode": {
    "name": "ipython",
    "version": 3
   },
   "file_extension": ".py",
   "mimetype": "text/x-python",
   "name": "python",
   "nbconvert_exporter": "python",
   "pygments_lexer": "ipython3",
   "version": "3.10.8"
  }
 },
 "nbformat": 4,
 "nbformat_minor": 5
}
