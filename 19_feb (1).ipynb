{
 "cells": [
  {
   "cell_type": "markdown",
   "id": "e572099d-41a3-491b-a737-b25ce92c6029",
   "metadata": {
    "tags": []
   },
   "source": [
    "\n",
    "## Q1. What is Flask Framework? What are the advantages of Flask Framework?"
   ]
  },
  {
   "cell_type": "markdown",
   "id": "3711a35b-d431-4763-8d4f-040c3c43d8d7",
   "metadata": {},
   "source": [
    "\n",
    "Flask is a lightweight, open-source Python web framework that allows developers to easily build web applications. It provides a simple and flexible approach to web development, making it a popular choice for building small to medium-sized web applications.\n",
    "\n",
    "Some of the advantages of Flask include:\n",
    "\n",
    "-Lightweight: Flask is a lightweight web framework, making it easy to set up and run. It does not require a lot of dependencies or complex configuration, which makes it ideal for smaller projects.\n",
    "\n",
    "-Flexibility: Flask allows developers to customize and tailor the framework to suit their specific needs. It is designed to be modular, so developers can add or remove functionality as needed.\n",
    "\n",
    "-Easy to Learn: Flask is one of the easiest web frameworks to learn, thanks to its simplicity and clear documentation. Developers with a basic understanding of Python can quickly get up and running with Flask.\n",
    "\n",
    "-Extensibility: Flask has a large and active community, with a wide range of plugins and extensions available. This makes it easy to add new functionality to your application, without having to write everything from scratch.\n",
    "\n",
    "-Built-in Development Server: Flask comes with a built-in development server that allows developers to test their applications locally before deploying them to a production environment.\n",
    "\n",
    "-Compatibility: Flask can be easily integrated with other popular technologies, such as SQL databases, NoSQL databases, and front-end frameworks like React or Angular. This makes it a flexible choice for building web applications with different requirements.\n",
    "\n",
    "Overall, Flask is a great choice for developers who are looking for a lightweight, flexible, and easy-to-learn web framework for building web applications."
   ]
  },
  {
   "cell_type": "markdown",
   "id": "39828f05-1168-49ae-9e23-d1189b43150d",
   "metadata": {},
   "source": [
    "\n",
    "## Q2. Create a simple Flask application to display ‘Hello World!!’. Attach the screenshot of the output in Jupyter Notebook"
   ]
  },
  {
   "cell_type": "code",
   "execution_count": null,
   "id": "807707df-5bd2-4c2e-8fa7-2745b47a64d4",
   "metadata": {},
   "outputs": [],
   "source": [
    "from flask import Flask\n",
    "\n",
    "app = Flask(__name__)\n",
    "\n",
    "@app.route(\"/\")\n",
    "def helloWorld():\n",
    "    return \"<h1>Hello World!</h1>\"\n",
    "\n",
    "if __name__ == \"__main__\":\n",
    "    app.run()"
   ]
  },
  {
   "cell_type": "markdown",
   "id": "07d14905-2b8c-4fda-a681-64094faae491",
   "metadata": {},
   "source": [
    "\n",
    "## Q3. What is App routing in Flask? Why do we use app routes?"
   ]
  },
  {
   "cell_type": "markdown",
   "id": "924226d0-d402-4ce9-b844-d6d3a4b70a5b",
   "metadata": {},
   "source": [
    "\n",
    "In Flask, application routing refers to the process of mapping URLs to functions that generate HTTP responses. This is achieved using the @app.route() decorator, which is used to define the URL patterns that should be handled by specific functions.\n",
    "\n",
    "The @app.route() decorator is used to specify the URL path that should trigger the function when a request is made to that URL. For example, @app.route('/about') specifies that the function following the decorator should be called when a user navigates to the URL path /about.\n",
    "\n",
    "Here is an example of an app route:"
   ]
  },
  {
   "cell_type": "markdown",
   "id": "cd5a9bde-3045-46d0-b1ef-14ba105eee8c",
   "metadata": {},
   "source": [
    "\n",
    "## Q4. Create a “/welcome” route to display the welcome message “Welcome to ABC Corporation” and a “/”\n",
    "## route to show the following details:\n",
    "## Company Name: ABC Corporation\n",
    "## Location: India\n",
    "## contact Detail: 999-999-9999\n",
    "## Attach the screenshot of the output in Jupyter Notebook."
   ]
  },
  {
   "cell_type": "code",
   "execution_count": null,
   "id": "e15dd727-2589-461c-b2a5-d9a59abe1b58",
   "metadata": {},
   "outputs": [],
   "source": [
    "from flask import Flask\n",
    "\n",
    "app = Flask(__name__)\n",
    "\n",
    "@app.route(\"/welcome\")\n",
    "def welcome():\n",
    "    return \"<h1>Welcome to ABC Corporation<h1>\"\n",
    "\n",
    "@app.route(\"/\")\n",
    "def company_details():\n",
    "    return \"<h1>Company Name: ABC Corporation<br>Location: India<br>Contact Detail: 999-999-9999</h1>\"\n",
    "\n",
    "if __name__ == '__main__':\n",
    "    app.run()"
   ]
  },
  {
   "cell_type": "markdown",
   "id": "a48e4fdc-3c34-4bd6-bd87-3ef8c49a1b2f",
   "metadata": {},
   "source": [
    "\n",
    "## Q5. What function is used in Flask for URL Building? Write a Python code to demonstrate the working of the url_for() function."
   ]
  },
  {
   "cell_type": "code",
   "execution_count": null,
   "id": "95c917f6-d3c4-4c93-a877-170c8f524bf4",
   "metadata": {},
   "outputs": [],
   "source": []
  }
 ],
 "metadata": {
  "kernelspec": {
   "display_name": "Python 3 (ipykernel)",
   "language": "python",
   "name": "python3"
  },
  "language_info": {
   "codemirror_mode": {
    "name": "ipython",
    "version": 3
   },
   "file_extension": ".py",
   "mimetype": "text/x-python",
   "name": "python",
   "nbconvert_exporter": "python",
   "pygments_lexer": "ipython3",
   "version": "3.10.8"
  }
 },
 "nbformat": 4,
 "nbformat_minor": 5
}
