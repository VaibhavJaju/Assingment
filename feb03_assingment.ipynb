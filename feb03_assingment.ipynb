{
 "cells": [
  {
   "cell_type": "markdown",
   "id": "9c64bb0e-cfca-415b-9723-e14eb3fa3417",
   "metadata": {},
   "source": [
    "GENRATOR FUNCTION"
   ]
  },
  {
   "cell_type": "code",
   "execution_count": 2,
   "id": "08fda32e-85f0-4af1-82b8-72cb5469c845",
   "metadata": {},
   "outputs": [],
   "source": [
    "#Question 1\n",
    "\"\"\"def keyword is used to create a function in python\"\"\"\n",
    "def odd_numbers():\n",
    "    for i in range(1,26):\n",
    "        if(i%2!=0):\n",
    "            print(i)\n",
    "    return odd_numbers"
   ]
  },
  {
   "cell_type": "code",
   "execution_count": 3,
   "id": "df47f936-06d4-4f63-8c21-bcf6d2ce5b5a",
   "metadata": {},
   "outputs": [
    {
     "name": "stdout",
     "output_type": "stream",
     "text": [
      "1\n",
      "3\n",
      "5\n",
      "7\n",
      "9\n",
      "11\n",
      "13\n",
      "15\n",
      "17\n",
      "19\n",
      "21\n",
      "23\n",
      "25\n"
     ]
    },
    {
     "data": {
      "text/plain": [
       "<function __main__.odd_numbers()>"
      ]
     },
     "execution_count": 3,
     "metadata": {},
     "output_type": "execute_result"
    }
   ],
   "source": [
    "odd_numbers()"
   ]
  },
  {
   "cell_type": "code",
   "execution_count": 4,
   "id": "35ec25be-37f6-4b7a-93b1-7dce9c428a42",
   "metadata": {},
   "outputs": [],
   "source": [
    "#Question2\n",
    "\"\"\" We use *args and **kwargs as an argument when we are unsure about the number of arguments to pass in the functions.\"\"\"\n",
    "#Using *args\n",
    "def name(*args):\n",
    "    return args"
   ]
  },
  {
   "cell_type": "code",
   "execution_count": 5,
   "id": "2bded381-5afd-41b9-b396-49612da7ee9d",
   "metadata": {},
   "outputs": [
    {
     "data": {
      "text/plain": [
       "('vaibhav', 'jaju', 'pwskills')"
      ]
     },
     "execution_count": 5,
     "metadata": {},
     "output_type": "execute_result"
    }
   ],
   "source": [
    "name(\"vaibhav\",\"jaju\",\"pwskills\")"
   ]
  },
  {
   "cell_type": "code",
   "execution_count": 6,
   "id": "da29b504-e850-47b1-81a9-34ddfcd3a8eb",
   "metadata": {},
   "outputs": [],
   "source": [
    "#using **kwargs\n",
    "def age(**kwargs):\n",
    "    return kwargs"
   ]
  },
  {
   "cell_type": "code",
   "execution_count": 7,
   "id": "f8783d8f-1719-4a6c-bc12-df73b1c50833",
   "metadata": {},
   "outputs": [
    {
     "data": {
      "text/plain": [
       "{'sakshi': 21, 'santosh': 20, 'nikhil': 19}"
      ]
     },
     "execution_count": 7,
     "metadata": {},
     "output_type": "execute_result"
    }
   ],
   "source": [
    "age(sakshi=21,santosh=20,nikhil=19)"
   ]
  },
  {
   "cell_type": "code",
   "execution_count": 9,
   "id": "e2906010-f5cd-4393-bf5c-6224883228cf",
   "metadata": {},
   "outputs": [
    {
     "name": "stdout",
     "output_type": "stream",
     "text": [
      "2\n",
      "4\n",
      "6\n",
      "8\n",
      "10\n"
     ]
    }
   ],
   "source": [
    "#Question 3\n",
    "\"\"\"An iterator is an object that contains a countable number of values. An iterator is an\n",
    "object that can be iterated upon, meaning that you can traverse through all the values. \n",
    "Technically, in Python, an iterator is an object which implements \n",
    "the iterator protocol, which consist of the methods __iter__() and __next__() .\"\"\"\n",
    "\n",
    "numbers = [2,4,6,8,10,12,14,16,18,20]\n",
    "l1 = iter(numbers)\n",
    "\n",
    "for i in range(5):\n",
    "    print(next(l1))\n"
   ]
  },
  {
   "cell_type": "code",
   "execution_count": 8,
   "id": "5f4f3d2b-92db-4874-9dd9-ce48cb1fc633",
   "metadata": {},
   "outputs": [],
   "source": [
    "#Question 4\n",
    "\"\"\"The generator function in python is the In Python, \n",
    "a generator is a function that returns an iterator that produces \n",
    "a sequence of values when iterated over.\"\"\"\n",
    "\n",
    "\"\"\"The yield keyword in Python controls the flow of \n",
    "a generator function. This is similar to a \n",
    "return statement used for returning values in Python.\"\"\"\n",
    "\n",
    "def test1(n):\n",
    "    a,b = 0,1\n",
    "    for i in range(n):\n",
    "        yield a\n",
    "        a,b = b, a+b"
   ]
  },
  {
   "cell_type": "code",
   "execution_count": 11,
   "id": "cab3b5ca-cecc-40c9-87da-ebfe0863790c",
   "metadata": {},
   "outputs": [
    {
     "name": "stdout",
     "output_type": "stream",
     "text": [
      "0\n",
      "1\n",
      "1\n",
      "2\n",
      "3\n",
      "5\n",
      "8\n",
      "13\n",
      "21\n",
      "34\n"
     ]
    }
   ],
   "source": [
    "for i in test1(10):\n",
    "    print(i)"
   ]
  },
  {
   "cell_type": "code",
   "execution_count": 13,
   "id": "9d04e0db-aaca-4564-800a-73c0fc9a355c",
   "metadata": {},
   "outputs": [
    {
     "name": "stdout",
     "output_type": "stream",
     "text": [
      "2\n",
      "3\n",
      "5\n",
      "7\n",
      "11\n",
      "13\n",
      "17\n",
      "19\n",
      "23\n",
      "29\n",
      "31\n",
      "37\n",
      "41\n",
      "43\n",
      "47\n",
      "49\n",
      "53\n",
      "59\n",
      "61\n",
      "67\n",
      "71\n",
      "73\n",
      "77\n",
      "79\n",
      "83\n"
     ]
    }
   ],
   "source": [
    "#Question 5\n",
    "\n",
    " # Question no 5\n",
    "    \n",
    "def prime_num():\n",
    "    num = 1\n",
    "    while num < 1000:\n",
    "        if num == 1:\n",
    "            num += 1\n",
    "        elif num == 2:\n",
    "            yield num\n",
    "            num += 1\n",
    "        elif num == 3:\n",
    "            yield num\n",
    "            num += 1\n",
    "        elif num == 5:\n",
    "            yield num\n",
    "            num += 1\n",
    "        elif num % 2 == 0 or num % 3 == 0 or num % 5 == 0:\n",
    "            num += 1\n",
    "        else:\n",
    "            yield num\n",
    "            num += 1\n",
    "\n",
    "\n",
    "values = prime_num()\n",
    "for i in range(25):\n",
    "    print(next(values))\n"
   ]
  },
  {
   "cell_type": "code",
   "execution_count": 15,
   "id": "cd5ca331-aab3-450c-b618-6217857e4efe",
   "metadata": {},
   "outputs": [
    {
     "name": "stdout",
     "output_type": "stream",
     "text": [
      "0\n",
      "1\n",
      "1\n",
      "2\n",
      "3\n",
      "5\n",
      "8\n",
      "13\n",
      "21\n",
      "34\n"
     ]
    }
   ],
   "source": [
    "#Question 6\n",
    "#While Loop\n",
    "\n",
    "def fib_series():\n",
    "    a,b = 0,1\n",
    "    while True:\n",
    "        yield a\n",
    "        a,b = b,a+b\n",
    "fib = fib_series()\n",
    "for i in range(10):\n",
    "    print(next(fib))"
   ]
  },
  {
   "cell_type": "code",
   "execution_count": 16,
   "id": "ee5ed2c5-fab4-4a27-9369-ff1cba92a972",
   "metadata": {},
   "outputs": [
    {
     "name": "stdout",
     "output_type": "stream",
     "text": [
      "['p', 'w', 's', 'k', 'i', 'l', 'l', 's']\n"
     ]
    }
   ],
   "source": [
    "#Question 7\n",
    "created_string = [word for word in \"pwskills\"]\n",
    "print(created_string)"
   ]
  },
  {
   "cell_type": "code",
   "execution_count": 24,
   "id": "5e79d2a1-cbf3-4753-bd90-18b0c968794f",
   "metadata": {},
   "outputs": [
    {
     "name": "stdin",
     "output_type": "stream",
     "text": [
      "Enter a number: 131\n"
     ]
    },
    {
     "name": "stdout",
     "output_type": "stream",
     "text": [
      "The number is palindrome!\n"
     ]
    }
   ],
   "source": [
    "num=int(input(\"Enter a number:\"))\n",
    "temp=num\n",
    "rev=0\n",
    "while(num>0):\n",
    "    dig=num%10\n",
    "    rev=rev*10+dig\n",
    "    num=num//10\n",
    "if(temp==rev):\n",
    "    print(\"The number is palindrome!\")\n",
    "else:\n",
    "    print(\"Not a palindrome!\")"
   ]
  },
  {
   "cell_type": "code",
   "execution_count": 25,
   "id": "5d8df9f4-afb8-4cb9-bde7-dce011f7bedf",
   "metadata": {},
   "outputs": [],
   "source": [
    "#Question 8\n",
    "odd_numbers = [num for num in [num "
   ]
  }
 ],
 "metadata": {
  "kernelspec": {
   "display_name": "Python 3 (ipykernel)",
   "language": "python",
   "name": "python3"
  },
  "language_info": {
   "codemirror_mode": {
    "name": "ipython",
    "version": 3
   },
   "file_extension": ".py",
   "mimetype": "text/x-python",
   "name": "python",
   "nbconvert_exporter": "python",
   "pygments_lexer": "ipython3",
   "version": "3.10.8"
  }
 },
 "nbformat": 4,
 "nbformat_minor": 5
}
