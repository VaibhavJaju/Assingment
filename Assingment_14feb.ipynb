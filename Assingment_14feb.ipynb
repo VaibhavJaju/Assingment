{
 "cells": [
  {
   "cell_type": "markdown",
   "id": "d2178251-dd72-47f4-9ea6-7b0ce38af9dc",
   "metadata": {},
   "source": [
    "1)What is multithreading in python? Why is it used? Name the module used to handle threads in python"
   ]
  },
  {
   "cell_type": "markdown",
   "id": "ee8ab3a8-7c70-4aff-8dee-73f11736d481",
   "metadata": {},
   "source": [
    "Multithreading in Python refers to the concurrent execution of multiple threads within a single Python process. A thread is a separate flow of execution that can run in parallel with other threads. Multithreading is used to achieve parallelism and can help improve the performance of a program by allowing multiple tasks to be executed at the same time.\n",
    "\n",
    "In Python, multithreading is often used to perform tasks that involve waiting for input or output operations, such as file I/O or network communication. By using multiple threads, a program can continue to execute other tasks while it waits for I/O operations to complete.\n",
    "\n",
    "The module used to handle threads in Python is called \"threading\". This module provides a simple way to create and manage threads within a Python program. The threading module allows developers to create new threads, start and stop threads, and manage thread synchronization and communication. It also provides support for thread-local data, which allows each thread to have its own set of data that is not shared with other threads."
   ]
  },
  {
   "cell_type": "markdown",
   "id": "44bec677-0361-4c44-a3ce-f8395cb0046b",
   "metadata": {},
   "source": [
    "2) Why threading module used? Write the use of the following functions\n",
    "a) activeCount() b) currentThread() c)enumerate()"
   ]
  },
  {
   "cell_type": "markdown",
   "id": "08a467d4-d82e-4d9b-b449-9c2535c660bc",
   "metadata": {},
   "source": [
    "The threading module in Python is used to handle threads within a program. It provides a way to create, manage, and control the execution of multiple threads in a single Python process. Here are the uses of some of the commonly used functions in the threading module:\n",
    "\n",
    "a) activeCount(): This function is used to get the number of currently active threads in the program. It returns an integer that represents the number of threads that are currently executing or waiting to execute.\n",
    "\n",
    "b) currentThread(): This function returns a reference to the currently executing thread object. It can be used to obtain information about the current thread, such as its name or thread ID.\n",
    "\n",
    "c) enumerate(): This function returns a list of all active thread objects in the program. It can be used to obtain information about all threads that are currently executing or waiting to execute. By default, this function includes the main thread in the list of threads.\n",
    "\n",
    "In summary, the activeCount() function is used to obtain the number of active threads, currentThread() is used to obtain information about the current thread, and enumerate() is used to obtain a list of all active thread objects in the program. These functions can be helpful in managing and debugging a program that uses multiple threads.\n",
    "\n"
   ]
  },
  {
   "cell_type": "code",
   "execution_count": 2,
   "id": "3815aacd-5397-47ac-8535-9091e42d33b1",
   "metadata": {},
   "outputs": [
    {
     "name": "stdout",
     "output_type": "stream",
     "text": [
      "Current thread name: Thread-5 (print_thread_name)\n",
      "Current thread name: Thread-6 (print_thread_name)\n",
      "Current thread name: Thread-7 (print_thread_name)\n",
      "Number of active threads: 8\n",
      "Current thread ID: 140669902317376\n",
      "Current thread name: MainThread\n",
      "Thread name: MainThread, ID: 140669902317376, is daemon: False\n",
      "Thread name: IOPub, ID: 140669831788096, is daemon: True\n",
      "Thread name: Heartbeat, ID: 140669823395392, is daemon: True\n",
      "Thread name: Thread-3 (_watch_pipe_fd), ID: 140669798217280, is daemon: True\n",
      "Thread name: Thread-4 (_watch_pipe_fd), ID: 140669789824576, is daemon: True\n",
      "Thread name: Control, ID: 140669439964736, is daemon: True\n",
      "Thread name: IPythonHistorySavingThread, ID: 140669431572032, is daemon: True\n",
      "Thread name: Thread-2, ID: 140669423179328, is daemon: True\n"
     ]
    },
    {
     "name": "stderr",
     "output_type": "stream",
     "text": [
      "/tmp/ipykernel_103/730725529.py:5: DeprecationWarning: currentThread() is deprecated, use current_thread() instead\n",
      "  print(f\"Current thread name: {threading.currentThread().getName()}\")\n",
      "/tmp/ipykernel_103/730725529.py:5: DeprecationWarning: getName() is deprecated, get the name attribute instead\n",
      "  print(f\"Current thread name: {threading.currentThread().getName()}\")\n",
      "/tmp/ipykernel_103/730725529.py:22: DeprecationWarning: activeCount() is deprecated, use active_count() instead\n",
      "  print(f\"Number of active threads: {threading.activeCount()}\")\n",
      "/tmp/ipykernel_103/730725529.py:25: DeprecationWarning: currentThread() is deprecated, use current_thread() instead\n",
      "  print(f\"Current thread ID: {threading.currentThread().ident}\")\n",
      "/tmp/ipykernel_103/730725529.py:26: DeprecationWarning: currentThread() is deprecated, use current_thread() instead\n",
      "  print(f\"Current thread name: {threading.currentThread().getName()}\")\n",
      "/tmp/ipykernel_103/730725529.py:26: DeprecationWarning: getName() is deprecated, get the name attribute instead\n",
      "  print(f\"Current thread name: {threading.currentThread().getName()}\")\n",
      "/tmp/ipykernel_103/730725529.py:30: DeprecationWarning: getName() is deprecated, get the name attribute instead\n",
      "  print(f\"Thread name: {thread.getName()}, ID: {thread.ident}, is daemon: {thread.daemon}\")\n"
     ]
    }
   ],
   "source": [
    "import threading\n",
    "\n",
    "# Define a simple function that prints the name of the current thread\n",
    "def print_thread_name():\n",
    "    print(f\"Current thread name: {threading.currentThread().getName()}\")\n",
    "\n",
    "# Create three thread objects and start them\n",
    "thread1 = threading.Thread(target=print_thread_name)\n",
    "thread2 = threading.Thread(target=print_thread_name)\n",
    "thread3 = threading.Thread(target=print_thread_name)\n",
    "\n",
    "thread1.start()\n",
    "thread2.start()\n",
    "thread3.start()\n",
    "\n",
    "# Wait for all three threads to finish executing\n",
    "thread1.join()\n",
    "thread2.join()\n",
    "thread3.join()\n",
    "\n",
    "# Print the number of active threads in the program\n",
    "print(f\"Number of active threads: {threading.activeCount()}\")\n",
    "\n",
    "# Print information about the current thread\n",
    "print(f\"Current thread ID: {threading.currentThread().ident}\")\n",
    "print(f\"Current thread name: {threading.currentThread().getName()}\")\n",
    "\n",
    "# Print information about all active thread objects\n",
    "for thread in threading.enumerate():\n",
    "    print(f\"Thread name: {thread.getName()}, ID: {thread.ident}, is daemon: {thread.daemon}\")"
   ]
  },
  {
   "cell_type": "markdown",
   "id": "eac8bcf1-0c6e-43ec-b7f2-e105d4ecfbe5",
   "metadata": {},
   "source": [
    "3. Explain the following functions\n",
    "a)run() b)start() c) join() d) isAlive()"
   ]
  },
  {
   "cell_type": "markdown",
   "id": "d15caa4b-1915-40e8-9deb-533b8e2e5e7e",
   "metadata": {},
   "source": [
    "In Python multithreading, the following functions are commonly used:\n",
    "\n",
    "a) run(): This method is called by the start() method of a thread object and is used to define the code that will be executed in the new thread. When the start() method is called, it will create a new thread and call its run() method, which will execute the code that has been defined.\n",
    "\n",
    "b) start(): This method is used to start a new thread of execution. When this method is called, a new thread is created, and its run() method is called to execute the code that has been defined.\n",
    "\n",
    "c) join(): This method is used to wait for a thread to complete its execution. When this method is called on a thread object, the calling thread will block until the target thread completes its execution.\n",
    "\n",
    "d) is_alive(): This method is used to check whether a thread is currently executing. It returns True if the thread is still executing, and False otherwise.\n",
    "\n",
    "Here is an example code that demonstrates the use of these functions in Python multithreading:"
   ]
  },
  {
   "cell_type": "code",
   "execution_count": 3,
   "id": "264f3c5c-4d8c-4815-81ed-049e9c12af21",
   "metadata": {},
   "outputs": [
    {
     "name": "stdout",
     "output_type": "stream",
     "text": [
      "Thread-8 started\n",
      "Thread-9 started\n",
      "Thread-8 finished\n",
      "Thread-9 finished\n",
      "Thread 1 is alive: False\n",
      "Thread 2 is alive: False\n"
     ]
    }
   ],
   "source": [
    "import threading\n",
    "import time\n",
    "\n",
    "# Define a simple thread class\n",
    "class MyThread(threading.Thread):\n",
    "    def run(self):\n",
    "        print(f\"{self.name} started\")\n",
    "\n",
    "        time.sleep(2)\n",
    "        print(f\"{self.name} finished\")\n",
    "\n",
    "# Create two thread objects\n",
    "thread1 = MyThread()\n",
    "thread2 = MyThread()\n",
    "\n",
    "# Start the threads\n",
    "thread1.start()\n",
    "thread2.start()\n",
    "\n",
    "# Wait for the threads to finish\n",
    "thread1.join()\n",
    "thread2.join()\n",
    "\n",
    "# Check if the threads are still alive\n",
    "print(f\"Thread 1 is alive: {thread1.is_alive()}\")\n",
    "print(f\"Thread 2 is alive: {thread2.is_alive()}\")"
   ]
  },
  {
   "cell_type": "markdown",
   "id": "d7756538-7d54-45dc-bda0-08c22626626b",
   "metadata": {},
   "source": [
    "\n",
    "4. Write a python program to create two threads. Thread one must print the list of squares and thread two must print the list of cubes\n",
    "Here's a Python program that creates two threads, with one thread printing a list of squares and the other thread printing a list of cubes:"
   ]
  },
  {
   "cell_type": "code",
   "execution_count": 5,
   "id": "7c341010-8e33-4567-b6e2-c7e363601920",
   "metadata": {},
   "outputs": [
    {
     "name": "stdout",
     "output_type": "stream",
     "text": [
      "\n",
      "1 squared is 1\n",
      "\n",
      "2 squared is 4\n",
      "\n",
      "3 squared is 9\n",
      "\n",
      "4 squared is 16\n",
      "\n",
      "5 squared is 25\n",
      "\n",
      "6 squared is 36\n",
      "\n",
      "7 squared is 49\n",
      "\n",
      "8 squared is 64\n",
      "\n",
      "9 squared is 81\n",
      "\n",
      "10 squared is 100\n",
      "\n",
      "1 cubed is 1\n",
      "\n",
      "2 cubed is 8\n",
      "\n",
      "3 cubed is 27\n",
      "\n",
      "4 cubed is 64\n",
      "\n",
      "5 cubed is 125\n",
      "\n",
      "6 cubed is 216\n",
      "\n",
      "7 cubed is 343\n",
      "\n",
      "8 cubed is 512\n",
      "\n",
      "9 cubed is 729\n",
      "\n",
      "10 cubed is 1000\n"
     ]
    }
   ],
   "source": [
    "import threading\n",
    "\n",
    "# Define a function to print a list of squares\n",
    "def print_squares():\n",
    "    for i in range(1, 11):\n",
    "        print(f\"\\n{i} squared is {i*i}\")\n",
    "        \n",
    "\n",
    "# Define a function to print a list of cubes\n",
    "def print_cubes():\n",
    "    for i in range(1, 11):\n",
    "        print(f\"\\n{i} cubed is {i*i*i}\")\n",
    "\n",
    "# Create two thread objects, one for each function\n",
    "thread1 = threading.Thread(target=print_squares)\n",
    "thread2 = threading.Thread(target=print_cubes)\n",
    "\n",
    "# Start the threads\n",
    "thread1.start()\n",
    "thread2.start()\n",
    "\n",
    "# Wait for the threads to finish\n",
    "thread1.join()\n",
    "thread2.join()"
   ]
  },
  {
   "cell_type": "markdown",
   "id": "9e35cf90-193b-4b81-b69f-6b966523eb1f",
   "metadata": {},
   "source": [
    "5. State advantages and disadvantages of multithreading"
   ]
  },
  {
   "cell_type": "markdown",
   "id": "16ee715d-03c4-49fa-a63b-c83006e6510f",
   "metadata": {},
   "source": [
    "Multithreading has several advantages and disadvantages, which are listed below:\n",
    "\n",
    "Advantages of Multithreading:\n",
    "\n",
    "-Increased Performance: Multithreading can improve the performance of a program by allowing multiple threads to run concurrently on multiple processors or cores. This can lead to faster execution times and improved system responsiveness.\n",
    "\n",
    "-Better Resource Utilization: Multithreading allows multiple threads to share system resources such as CPU time and memory, resulting in better resource utilization and more efficient use of system resources.\n",
    "\n",
    "-Improved Responsiveness: Multithreading can improve the responsiveness of a program by allowing the user interface to remain active and responsive while long-running operations are performed in the background.\n",
    "\n",
    "-Improved Modularity: Multithreading allows complex programs to be broken down into smaller, more manageable components, making it easier to develop and maintain complex software systems.\n",
    "\n",
    "Disadvantages of Multithreading:\n",
    "\n",
    "-Increased Complexity: Multithreaded programs can be more complex and difficult to develop, test, and maintain than single-threaded programs, especially when dealing with shared resources.\n",
    "\n",
    "-Synchronization Overhead: When multiple threads access shared resources, synchronization mechanisms must be used to prevent race conditions and ensure data consistency. This can introduce overhead and reduce performance.\n",
    "\n",
    "-Deadlocks: Multithreaded programs can be prone to deadlocks, which occur when two or more threads are blocked waiting for each other to release resources.\n",
    "\n",
    "-Debugging Difficulties: Debugging multithreaded programs can be difficult because the behavior of a program can depend on the timing and interaction of multiple threads, making it harder to reproduce and diagnose problems.\n",
    "\n",
    "In summary, multithreading can lead to increased performance, better resource utilization, improved responsiveness, and improved modularity, but it can also introduce increased complexity, synchronization overhead, deadlocks, and debugging difficulties."
   ]
  },
  {
   "cell_type": "markdown",
   "id": "88dbc74d-5e4d-4c1a-92f4-636fd906cb62",
   "metadata": {},
   "source": [
    "6) Explain deadlocks and race conditions."
   ]
  },
  {
   "cell_type": "markdown",
   "id": "d8809ec0-9c82-47cf-9be2-4470e53d16c0",
   "metadata": {},
   "source": [
    "Deadlocks and race conditions are two common concurrency issues that can occur in multithreaded programs.\n",
    "\n",
    "Deadlock:\n",
    "\n",
    "A deadlock occurs when two or more threads are blocked waiting for each other to release resources that they need to proceed. Deadlocks can occur when multiple threads access shared resources in a circular or cyclic manner, and each thread is waiting for the other thread to release the resource it needs.\n",
    "\n",
    "For example, suppose Thread 1 has locked Resource A and is waiting for Resource B, while Thread 2 has locked Resource B and is waiting for Resource A. In this case, both threads are blocked waiting for each other to release the resource they need, resulting in a deadlock.\n",
    "\n",
    "Deadlocks can be difficult to detect and debug because they can be dependent on the timing of the threads, and they can often result in a program that appears to be stuck or unresponsive.\n",
    "\n",
    "Race Condition:\n",
    "\n",
    "A race condition occurs when the behavior of a program depends on the timing or sequence of events in different threads. Race conditions can occur when multiple threads access a shared resource and the order or timing of the accesses is not properly controlled.\n",
    "\n",
    "For example, suppose two threads attempt to increment a shared counter at the same time. If the counter is initially set to zero, both threads may read the value of the counter as zero, and then both threads may increment the counter and write the value back to memory. In this case, the final value of the counter will be incorrect, since only one thread's increment operation will be reflected in the final value.\n",
    "\n",
    "Race conditions can be difficult to detect and debug, since they often depend on the timing of the threads and can result in non-deterministic behavior in the program.\n",
    "\n",
    "To avoid these concurrency issues, it is important to carefully design and implement multithreaded programs, using synchronization mechanisms such as locks, semaphores, and monitors"
   ]
  },
  {
   "cell_type": "code",
   "execution_count": null,
   "id": "0645fcaa-ec50-4676-aa41-b12f85d23dcd",
   "metadata": {},
   "outputs": [],
   "source": []
  }
 ],
 "metadata": {
  "kernelspec": {
   "display_name": "Python 3 (ipykernel)",
   "language": "python",
   "name": "python3"
  },
  "language_info": {
   "codemirror_mode": {
    "name": "ipython",
    "version": 3
   },
   "file_extension": ".py",
   "mimetype": "text/x-python",
   "name": "python",
   "nbconvert_exporter": "python",
   "pygments_lexer": "ipython3",
   "version": "3.10.8"
  }
 },
 "nbformat": 4,
 "nbformat_minor": 5
}
