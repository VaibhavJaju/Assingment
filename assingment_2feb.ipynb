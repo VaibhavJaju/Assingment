{
 "cells": [
  {
   "cell_type": "code",
   "execution_count": 1,
   "id": "b799645b",
   "metadata": {},
   "outputs": [],
   "source": [
    "#Question 1\n",
    "\"\"\"The \"for loop\" is used when we already know the number of iterations, which means when we know how many times a statement has to be executed.\"\"\"\n",
    "\"\"\"A \"While Loop\" is used to repeat a specific block of code an unknown number of times, until a condition is met\"\"\"\n",
    "#Examples\n",
    "#For loop\n",
    "l = [1,2,3,4,5,\"vaibhav\",\"akanksha\",312.12,324,\"abc\"]\n",
    "l1_num = []\n",
    "l2_str = []\n",
    "for i in l:\n",
    "    if type(i) == int or type(i) == float:\n",
    "        l1_num.append(i)\n",
    "    else:\n",
    "        l2_str.append(i)"
   ]
  },
  {
   "cell_type": "code",
   "execution_count": 2,
   "id": "e9a15394",
   "metadata": {},
   "outputs": [
    {
     "data": {
      "text/plain": [
       "[1, 2, 3, 4, 5, 312.12, 324]"
      ]
     },
     "execution_count": 2,
     "metadata": {},
     "output_type": "execute_result"
    }
   ],
   "source": [
    "l1_num"
   ]
  },
  {
   "cell_type": "code",
   "execution_count": 3,
   "id": "286eb42f",
   "metadata": {},
   "outputs": [
    {
     "data": {
      "text/plain": [
       "['vaibhav', 'akanksha', 'abc']"
      ]
     },
     "execution_count": 3,
     "metadata": {},
     "output_type": "execute_result"
    }
   ],
   "source": [
    "l2_str"
   ]
  },
  {
   "cell_type": "code",
   "execution_count": 4,
   "id": "1951f922",
   "metadata": {},
   "outputs": [
    {
     "name": "stdout",
     "output_type": "stream",
     "text": [
      "10\n",
      "9\n",
      "8\n",
      "7\n",
      "6\n",
      "5\n",
      "4\n",
      "3\n",
      "2\n",
      "1\n"
     ]
    }
   ],
   "source": [
    "#While Loop\n",
    "i=10\n",
    "while i>0:\n",
    "    print(i)\n",
    "    i = i - 1"
   ]
  },
  {
   "cell_type": "code",
   "execution_count": 5,
   "id": "bcb1c5a0",
   "metadata": {},
   "outputs": [
    {
     "name": "stdout",
     "output_type": "stream",
     "text": [
      "55\n",
      "3628800\n",
      "55\n",
      "3628800\n"
     ]
    }
   ],
   "source": [
    "#answer2\n",
    "##using for loop\n",
    "sum=0\n",
    "product=1\n",
    "for i in range(1,11):\n",
    "    sum+=i\n",
    "print(sum)\n",
    "for i in range(1,11):\n",
    "    product*=i\n",
    "print(product)\n",
    "\n",
    "##using while loop\n",
    "i=0\n",
    "while(i>=10):\n",
    "    sum=sum+i\n",
    "    i+=1\n",
    "print(sum) \n",
    "j=1\n",
    "while(j>=10):\n",
    "    product=product*j\n",
    "    j+=1\n",
    "print(product)    "
   ]
  },
  {
   "cell_type": "code",
   "execution_count": 6,
   "id": "51642f48",
   "metadata": {},
   "outputs": [
    {
     "name": "stdout",
     "output_type": "stream",
     "text": [
      "Enter the electricity units: 310\n",
      "Your electricity bill is:  2250.0\n"
     ]
    }
   ],
   "source": [
    "#Question 3\n",
    "#ANSWER\n",
    "\n",
    "units = int(input(\"Enter the electricity units: \"))\n",
    "if units <=100:\n",
    "    print(\"Your electricity bill is: \", units*4.5)\n",
    "elif units<=200:\n",
    "    print(\"Your electricity bill is: \", ((100 * 4.5) +(units - 100) * 6))\n",
    "elif units<=300:\n",
    "    print(\"Your electricity bill is: \", ((100 * 4.5) +(100 * 6) +(units - 200) * 10))\n",
    "elif units>300:\n",
    "    print(\"Your electricity bill is: \", ((100 * 4.5) + (100 * 6) + (100 * 10) +(units - 300) * 20))"
   ]
  },
  {
   "cell_type": "code",
   "execution_count": 9,
   "id": "7b10cee9",
   "metadata": {},
   "outputs": [
    {
     "name": "stdout",
     "output_type": "stream",
     "text": [
      "The list of cubes in 1 to 100 that are divided by 4 or 5 is : \n",
      " [2, 4, 5, 6, 8, 10, 12, 14, 15, 16, 18, 20, 22, 24, 25, 26, 28, 30, 32, 34, 35, 36, 38, 40, 42, 44, 45, 46, 48, 50, 52, 54, 55, 56, 58, 60, 62, 64, 65, 66, 68, 70, 72, 74, 75, 76, 78, 80, 82, 84, 85, 86, 88, 90, 92, 94, 95, 96, 98, 100] The list of cubes in 1 to 100 that are divided by 4 or 5 is : \n",
      " [2, 4, 5, 6, 8, 10, 12, 14, 15, 16, 18, 20, 22, 24, 25, 26, 28, 30, 32, 34, 35, 36, 38, 40, 42, 44, 45, 46, 48, 50, 52, 54, 55, 56, 58, 60, 62, 64, 65, 66, 68, 70, 72, 74, 75, 76, 78, 80, 82, 84, 85, 86, 88, 90, 92, 94, 95, 96, 98, 100] "
     ]
    }
   ],
   "source": [
    "#Question 4\n",
    "cubes = []\n",
    "mylist = []\n",
    "for i in range(1, 101):\n",
    "    mylist.append(i)\n",
    "    cube = i**3\n",
    "    if(cube%4==0 or cube%5==0):\n",
    "        cubes.append(i)\n",
    "print(\"The list of cubes in 1 to 100 that are divided by 4 or 5 is : \\n\",cubes,end=\" \")\n",
    "\n",
    "#Using While Loop\n",
    "i=1\n",
    "while(i>=100):\n",
    "    mylist.append(i)\n",
    "    i+=1\n",
    "    cube=i**3\n",
    "    if(cube%4==0 or cube%5==0):\n",
    "        cubes.append(i)\n",
    "print(\"The list of cubes in 1 to 100 that are divided by 4 or 5 is : \\n\",cubes,end=\" \")    "
   ]
  },
  {
   "cell_type": "code",
   "execution_count": 10,
   "id": "3a0f8474",
   "metadata": {},
   "outputs": [
    {
     "name": "stdout",
     "output_type": "stream",
     "text": [
      "The number of vowles in string are: 12\n"
     ]
    }
   ],
   "source": [
    "#Question 5\n",
    "string = (\"i want to become a data scientist\")\n",
    "vowels = (\"aeiou\")\n",
    "count = 0\n",
    "for i in string:\n",
    "    if(i in vowels):\n",
    "        count +=1\n",
    "print(\"The number of vowles in string are:\",count)"
   ]
  }
 ],
 "metadata": {
  "kernelspec": {
   "display_name": "Python 3 (ipykernel)",
   "language": "python",
   "name": "python3"
  },
  "language_info": {
   "codemirror_mode": {
    "name": "ipython",
    "version": 3
   },
   "file_extension": ".py",
   "mimetype": "text/x-python",
   "name": "python",
   "nbconvert_exporter": "python",
   "pygments_lexer": "ipython3",
   "version": "3.9.13"
  }
 },
 "nbformat": 4,
 "nbformat_minor": 5
}
