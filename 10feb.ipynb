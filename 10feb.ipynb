{
 "cells": [
  {
   "cell_type": "code",
   "execution_count": 1,
   "id": "e3eea55b-c805-44f1-85d4-de1150bdb7c1",
   "metadata": {},
   "outputs": [
    {
     "data": {
      "text/plain": [
       "'In Python, we use the open() method to open files.\\nr\\tOpen a file for reading. (default)\\nw\\tOpen a file for writing. Creates a new file if it does not exist or truncates the file if it exists.\\nx\\tOpen a file for exclusive creation. If the file already exists, the operation fails.\\na\\tOpen a file for appending at the end of the file without truncating it. Creates a new file if it does not exist.\\nt\\tOpen in text mode. (default)\\nb\\tOpen in binary mode.\\n+\\tOpen a file for updating (reading and writing)'"
      ]
     },
     "execution_count": 1,
     "metadata": {},
     "output_type": "execute_result"
    }
   ],
   "source": [
    "\"\"\"Q1. Which function is used to open a file? What are the different modes of opening a file? Explain each mode\n",
    "of file opening.\"\"\"\n",
    "#answer\n",
    "\"\"\"In Python, we use the open() method to open files.\n",
    "r\tOpen a file for reading. (default)\n",
    "w\tOpen a file for writing. Creates a new file if it does not exist or truncates the file if it exists.\n",
    "x\tOpen a file for exclusive creation. If the file already exists, the operation fails.\n",
    "a\tOpen a file for appending at the end of the file without truncating it. Creates a new file if it does not exist.\n",
    "t\tOpen in text mode. (default)\n",
    "b\tOpen in binary mode.\n",
    "+\tOpen a file for updating (reading and writing)\"\"\""
   ]
  },
  {
   "cell_type": "code",
   "execution_count": 2,
   "id": "9ca17279-a162-43c2-a51c-5bdeda1baea4",
   "metadata": {},
   "outputs": [
    {
     "data": {
      "text/plain": [
       "\"Python File close() Method\\n\\nThe close() function is used for closes an open file. \\nYou should always close your files, in some cases, due to buffering, changes made to a file may not show until you close the file.\\nIf the file has any sort of buffering behind it it and you don't call close then you could potentially lose data. If the OS has limited\\nresources(e.g. number of open files) then by not closing files you are wasting system resources.\""
      ]
     },
     "execution_count": 2,
     "metadata": {},
     "output_type": "execute_result"
    }
   ],
   "source": [
    "\"\"\"Q2. Why close() function is used? Why is it important to close a file?\"\"\"\n",
    "#Answer\n",
    "\"\"\"Python File close() Method\n",
    "\n",
    "The close() function is used for closes an open file. \n",
    "You should always close your files, in some cases, due to buffering, changes made to a file may not show until you close the file.\n",
    "If the file has any sort of buffering behind it it and you don't call close then you could potentially lose data. If the OS has limited\n",
    "resources(e.g. number of open files) then by not closing files you are wasting system resources.\"\"\""
   ]
  },
  {
   "cell_type": "code",
   "execution_count": 3,
   "id": "6bca07d6-fccc-4921-9817-c1a1c1683d0f",
   "metadata": {},
   "outputs": [
    {
     "name": "stdout",
     "output_type": "stream",
     "text": [
      "I want to become a Data Scientist\n"
     ]
    }
   ],
   "source": [
    "\"\"\"Q3. Write a python program to create a text file. Write ‘I want to become a Data Scientist’ in that file. Then\n",
    "close the file. Open this file and read the content of the file.\"\"\"\n",
    "#answer\n",
    "# creating the file and writing the string in it\n",
    "file = open(\"file.txt\", \"w\")\n",
    "file.write(\"I want to become a Data Scientist\")\n",
    "file.close()\n",
    "\n",
    "# opening the file and reading its contents\n",
    "file = open(\"file.txt\", \"r\")\n",
    "content = file.read()\n",
    "print(content)\n",
    "file.close()"
   ]
  },
  {
   "cell_type": "code",
   "execution_count": 4,
   "id": "fbb51551-dc67-4615-bfd9-53f62a96490f",
   "metadata": {},
   "outputs": [
    {
     "name": "stdout",
     "output_type": "stream",
     "text": [
      "I want to become a Data Scientist\n",
      "I want to become a Data Scientist\n",
      "\n",
      "I want to become a Data Scientist\n",
      "I want to become a Data Scientist\n"
     ]
    }
   ],
   "source": [
    "\"\"\"Q4. Explain the following with python code: read(), readline() and readlines().\"\"\"\n",
    "#answer\n",
    "\"\"\"The read(), readline(), and readlines() functions are used to read the contents of a text file in Python.\n",
    "\n",
    "read(): This function reads the entire contents of the file as a single string. \"\"\"\n",
    "file = open(\"file.txt\", \"r\")\n",
    "contents = file.read()\n",
    "print(contents)\n",
    "file.close()\n",
    "\"\"\"\n",
    "readline(): This function reads a single line of the file at a time. \"\"\"\n",
    "file = open(\"file.txt\", \"r\")\n",
    "line = file.readline()\n",
    "print(line)\n",
    "line = file.readline()\n",
    "print(line)\n",
    "file.close()\n",
    "\"\"\"\n",
    "readlines(): This function reads the entire contents of the file as a list of strings, where each string represents a line in the file.:\"\"\"\n",
    "file = open(\"file.txt\", \"r\")\n",
    "lines = file.readlines()\n",
    "for line in lines:\n",
    "    print(line)\n",
    "file.close()\n",
    "\n",
    "with open(\"file.txt\", \"r\") as file:\n",
    "    contents = file.read()\n",
    "    print(contents)"
   ]
  },
  {
   "cell_type": "code",
   "execution_count": 5,
   "id": "2aa43d24-a53d-424c-b967-c00ade8cbcff",
   "metadata": {},
   "outputs": [],
   "source": [
    "\"\"\"Q5. Explain why with statement is used with open(). What is the advantage of using with statement and\n",
    "open() together?\"\"\"\n",
    "#answer\n",
    "\"\"\"The with statement is used with open() to ensure that the file is properly closed after it is used. \n",
    "This is because the with statement provides a clean and convenient way to handle resource management, such as file I/O operations.\n",
    "When you use open() to open a file, it returns a file object. This file object must be closed explicitly when you are done with it, \n",
    "to ensure that any resources associated with the file are properly released. This can be done using the close() method of the file object, \n",
    "but if you forget to close the file, it can lead to resource leaks, and other issues.The with statement makes it easier to manage\n",
    "resources by automatically closing the file after it is used. When the block of code inside the with statement is executed, Python takes\n",
    "care of automatically closing the file, even ifan exception is raised. This ensures that thefile is closed even if an error occurs,\n",
    "and makes your code more robust and less error-prone.\"\"\"\n",
    "with open(\"file.txt\", \"r\") as file:\n",
    "    data = file.read()\n",
    "    # do something with the data\n",
    "\n",
    "# The file is automatically closed here, even if an exception was raised"
   ]
  },
  {
   "cell_type": "code",
   "execution_count": 6,
   "id": "62c412e0-131f-4e34-8614-c40f81366204",
   "metadata": {},
   "outputs": [],
   "source": [
    "\"\"\"Q6. Explain the write() and writelines() functions. Give a suitable example.\"\"\"\n",
    "#answer\n",
    "\"\"\"he write() and writelines() functions are two important functions in Python that allow you to write content to a file.\n",
    "\n",
    "The write() function is used to write a string to a file. The syntax for the write() function is as follows:\n",
    "\"\"\"\n",
    "\"\"\"where file_object is the file object that you have opened and string is the string that you want to write to the file. \n",
    "The write() function returns the number of characters written to the file.\n",
    "Here's an example that demonstrates the use of the write() function:\"\"\"\n",
    "# Open a file for writing\n",
    "with open(\"file.txt\", \"w\") as file:\n",
    "    # Write a string to the file\n",
    "    file.write(\"Hello, World!\")\n",
    "\"\"\"The writelines() function is used to write a sequence of strings to a file. The syntax for the writelines() function is as follows:\"\"\"\n",
    "# Open a file for writing\n",
    "with open(\"sample.txt\", \"w\") as file:\n",
    "    # Write a sequence of strings to the file\n",
    "    lines = [\"Line 1\", \"Line 2\", \"Line 3\"]\n",
    "    file.writelines(lines)"
   ]
  },
  {
   "cell_type": "code",
   "execution_count": null,
   "id": "dcd0ee6b-2e3c-439f-8cba-e63d129ff881",
   "metadata": {},
   "outputs": [],
   "source": []
  }
 ],
 "metadata": {
  "kernelspec": {
   "display_name": "Python 3 (ipykernel)",
   "language": "python",
   "name": "python3"
  },
  "language_info": {
   "codemirror_mode": {
    "name": "ipython",
    "version": 3
   },
   "file_extension": ".py",
   "mimetype": "text/x-python",
   "name": "python",
   "nbconvert_exporter": "python",
   "pygments_lexer": "ipython3",
   "version": "3.10.8"
  }
 },
 "nbformat": 4,
 "nbformat_minor": 5
}
