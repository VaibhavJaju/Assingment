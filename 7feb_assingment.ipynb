{
 "cells": [
  {
   "cell_type": "code",
   "execution_count": 1,
   "id": "e109b0d6-bfd2-42da-872d-55ca89e549e6",
   "metadata": {},
   "outputs": [
    {
     "name": "stdin",
     "output_type": "stream",
     "text": [
      "Please enter your passoward ? VaibHav@#@20\n"
     ]
    },
    {
     "name": "stdout",
     "output_type": "stream",
     "text": [
      "Valid Password\n"
     ]
    }
   ],
   "source": [
    "# Question 1\n",
    "\n",
    "import string\n",
    "\n",
    "\n",
    "def check_password(password):\n",
    "\n",
    "    if len(password) >= 10:\n",
    "        count_lower_case = 0\n",
    "        count_upper_case = 0\n",
    "        count_special = 0\n",
    "        count_int = 0\n",
    "        for word in password:\n",
    "            if word in string.ascii_lowercase:\n",
    "                count_lower_case += 1\n",
    "                continue\n",
    "            elif word in string.ascii_uppercase:\n",
    "                count_upper_case += 1\n",
    "                continue\n",
    "            elif word in string.punctuation:\n",
    "                count_special += 1\n",
    "                continue\n",
    "            elif word in string.octdigits:\n",
    "                count_int += 1\n",
    "                continue\n",
    "        if count_lower_case >= 2 or count_upper_case >= 2 or count_special >= 3 or count_int >= 1:\n",
    "            return \"Valid Password\"\n",
    "        else:\n",
    "            return \"Invalid Password\"\n",
    "    else:\n",
    "        return \"Invalid Password\"\n",
    "    \n",
    "user_input = input(\"Please enter your passoward ?\")\n",
    "print(check_password(user_input))\n"
   ]
  },
  {
   "cell_type": "code",
   "execution_count": 2,
   "id": "50df895c-48d3-4b0c-911a-78a2de2c6427",
   "metadata": {},
   "outputs": [
    {
     "name": "stdin",
     "output_type": "stream",
     "text": [
      "Please enter your string. Int88\n"
     ]
    },
    {
     "name": "stdout",
     "output_type": "stream",
     "text": [
      "True\n"
     ]
    }
   ],
   "source": [
    "#Question 2.\n",
    "\n",
    "# a. Check if the string starts with a particular letter.\n",
    "user_input = input(\"Please enter your string.\")\n",
    "check_correct = lambda input: True if input[0] == \"I\" else False\n",
    "print(check_correct(user_input))"
   ]
  },
  {
   "cell_type": "code",
   "execution_count": 4,
   "id": "14e4617a-45f9-477d-9d60-e19aa8b08d2e",
   "metadata": {},
   "outputs": [
    {
     "name": "stdin",
     "output_type": "stream",
     "text": [
      "Please enter your string. Int89\n"
     ]
    },
    {
     "name": "stdout",
     "output_type": "stream",
     "text": [
      "True\n"
     ]
    }
   ],
   "source": [
    "#Question 2.\n",
    "\n",
    "# a. Check if the string starts with a particular letter.\n",
    "user_input = input(\"Please enter your string.\")\n",
    "check_correct = lambda input: True if input[0] == \"I\" else False\n",
    "print(check_correct(user_input))"
   ]
  },
  {
   "cell_type": "code",
   "execution_count": 5,
   "id": "74ccb268-8672-4875-9d82-f2609f1d5f03",
   "metadata": {},
   "outputs": [
    {
     "name": "stdout",
     "output_type": "stream",
     "text": [
      "[('orange', 80), ('mango', 99), ('grapes', 1000)]\n"
     ]
    }
   ],
   "source": [
    "# c. Sort a list of tuples having fruit names and their quantity.\n",
    "\n",
    "list_x = [(\"mango\", 99), (\"orange\", 80), (\"grapes\", 1000)]\n",
    "list_x.sort(key=lambda x: x[1])\n",
    "print(list_x)\n",
    "       "
   ]
  },
  {
   "cell_type": "code",
   "execution_count": 6,
   "id": "63a103fd-f036-4927-a0e1-31eb53b8e9a3",
   "metadata": {},
   "outputs": [
    {
     "name": "stdout",
     "output_type": "stream",
     "text": [
      "[1, 4, 9, 16, 25, 36, 49, 64, 81, 100, 121, 144, 169, 196, 225, 256, 289, 324, 361, 400, 441, 484, 529, 576, 625]\n"
     ]
    }
   ],
   "source": [
    "# d. Find the squares of numbers from 1 to 10.\n",
    "\n",
    "sq_list = [word**2 for word in range(1, 26)]\n",
    "print(sq_list)"
   ]
  },
  {
   "cell_type": "code",
   "execution_count": 8,
   "id": "dcf35bf2-5569-4c42-b53b-b6f373c5704e",
   "metadata": {},
   "outputs": [
    {
     "name": "stdout",
     "output_type": "stream",
     "text": [
      "[1, 8, 27, 64, 125, 216, 343, 512, 729, 1000]\n"
     ]
    }
   ],
   "source": [
    "# e. Find the cube root of numbers from 1 to 10.\n",
    "\n",
    "cubes = [x**3 for x in range(1,11)]\n",
    "print(cubes)"
   ]
  },
  {
   "cell_type": "code",
   "execution_count": 10,
   "id": "e60171d5-4111-4715-908b-c8ed3630707b",
   "metadata": {},
   "outputs": [
    {
     "name": "stdin",
     "output_type": "stream",
     "text": [
      "Please enter your no 26\n"
     ]
    },
    {
     "name": "stdout",
     "output_type": "stream",
     "text": [
      "['True']\n"
     ]
    }
   ],
   "source": [
    "# f. Check if a given number is even.\n",
    "\n",
    "user = int(input(\"Please enter your no\"))\n",
    "new_list = []\n",
    "new_list.append(user)\n",
    "result = [\"True\" for num in new_list if num%2==0]\n",
    "print(result)"
   ]
  },
  {
   "cell_type": "code",
   "execution_count": 12,
   "id": "a5e1c884-8e6c-4018-9e8d-4c6a260932b9",
   "metadata": {},
   "outputs": [
    {
     "name": "stdout",
     "output_type": "stream",
     "text": [
      "The list of odd numbers is: [1, 3, 5, 7, 9]\n"
     ]
    }
   ],
   "source": [
    "# g. Filter odd numbers from the given list.\n",
    "\n",
    "num_list = [1,2,3,4,5,6,7,8,9,10]\n",
    "odd_numbers = filter(lambda x:x%2 !=0,num_list)\n",
    "print(\"The list of odd numbers is:\",list(odd_numbers))"
   ]
  },
  {
   "cell_type": "code",
   "execution_count": 13,
   "id": "7270b0d4-6b7e-43e6-84d9-de740df464e1",
   "metadata": {},
   "outputs": [
    {
     "name": "stdout",
     "output_type": "stream",
     "text": [
      "[-5, -4, -3, -2, -1]\n",
      "[0, 1, 2, 3, 4, 5, 6]\n"
     ]
    }
   ],
   "source": [
    "# h. Sort a list of integers into positive and negative integers lists.\n",
    "test_list =  [1,2,3,4,5,6,-1,-2,-3,-4,-5,0]\n",
    "\n",
    "list_x = [x for x in test_list if x<0]\n",
    "list_y = [x for x in test_list if x>=0]\n",
    "\n",
    "list_x.sort()\n",
    "list_y.sort()\n",
    "\n",
    "print(list_x)\n",
    "print(list_y)"
   ]
  },
  {
   "cell_type": "code",
   "execution_count": null,
   "id": "6c2a3754-5a03-44fe-b5ed-17390b188807",
   "metadata": {},
   "outputs": [],
   "source": []
  }
 ],
 "metadata": {
  "kernelspec": {
   "display_name": "Python 3 (ipykernel)",
   "language": "python",
   "name": "python3"
  },
  "language_info": {
   "codemirror_mode": {
    "name": "ipython",
    "version": 3
   },
   "file_extension": ".py",
   "mimetype": "text/x-python",
   "name": "python",
   "nbconvert_exporter": "python",
   "pygments_lexer": "ipython3",
   "version": "3.10.8"
  }
 },
 "nbformat": 4,
 "nbformat_minor": 5
}
