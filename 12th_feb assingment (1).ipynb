{
 "cells": [
  {
   "cell_type": "markdown",
   "id": "05d6f3b1-046c-4900-8287-40c99dfea454",
   "metadata": {},
   "source": [
    "1) What is Exception in Python? Write a difference between Exception and Syntax Error?"
   ]
  },
  {
   "cell_type": "markdown",
   "id": "c7791acd-e23e-41fd-9862-211d6d89dcb1",
   "metadata": {},
   "source": [
    "In Python, an exception is an event that occurs during the execution of a program that disrupts the normal flow of the program's instructions. Exceptions are used to handle errors and other exceptional conditions that can arise while a program is running.\n",
    "\n",
    "A syntax error, on the other hand, is a type of error that occurs when the code written in the program violates the rules of the Python syntax. Syntax errors are detected by the Python interpreter before the code is executed, and they prevent the program from running.\n",
    "\n",
    "The main difference between an exception and a syntax error is that exceptions occur at runtime, while syntax errors occur at compile time. Additionally, syntax errors are usually easier to detect and fix because they prevent the code from being executed, whereas exceptions can be more difficult to debug because they occur only when the code is running.\n",
    "\n",
    "For example, trying to divide a number by zero will raise an exception (ZeroDivisionError), whereas forgetting to put quotes around a string in a print statement would result in a syntax error."
   ]
  },
  {
   "cell_type": "markdown",
   "id": "4d9cdcbd-a8f9-40cc-ac1b-822686caaee0",
   "metadata": {},
   "source": [
    "2) What happens if an exception is not handled? Explain with an example."
   ]
  },
  {
   "cell_type": "markdown",
   "id": "90c15bb3-5360-42c5-bd40-6a2811487113",
   "metadata": {},
   "source": [
    "If an exception is not handled in a Python program, the program will terminate abruptly and an error message will be displayed. The error message indicates what type of exception was raised and where it occurred in the code."
   ]
  },
  {
   "cell_type": "code",
   "execution_count": 2,
   "id": "38fb7ac6-d47f-483a-9a16-be6789f594b5",
   "metadata": {},
   "outputs": [
    {
     "ename": "ZeroDivisionError",
     "evalue": "division by zero",
     "output_type": "error",
     "traceback": [
      "\u001b[0;31m---------------------------------------------------------------------------\u001b[0m",
      "\u001b[0;31mZeroDivisionError\u001b[0m                         Traceback (most recent call last)",
      "Cell \u001b[0;32mIn[2], line 9\u001b[0m\n\u001b[1;32m      6\u001b[0m x \u001b[38;5;241m=\u001b[39m \u001b[38;5;241m10\u001b[39m\n\u001b[1;32m      7\u001b[0m y \u001b[38;5;241m=\u001b[39m \u001b[38;5;241m0\u001b[39m\n\u001b[0;32m----> 9\u001b[0m result \u001b[38;5;241m=\u001b[39m \u001b[43mdivide\u001b[49m\u001b[43m(\u001b[49m\u001b[43mx\u001b[49m\u001b[43m,\u001b[49m\u001b[43m \u001b[49m\u001b[43my\u001b[49m\u001b[43m)\u001b[49m\n\u001b[1;32m     10\u001b[0m \u001b[38;5;28mprint\u001b[39m(result)\n",
      "Cell \u001b[0;32mIn[2], line 4\u001b[0m, in \u001b[0;36mdivide\u001b[0;34m(x, y)\u001b[0m\n\u001b[1;32m      3\u001b[0m \u001b[38;5;28;01mdef\u001b[39;00m \u001b[38;5;21mdivide\u001b[39m(x, y):\n\u001b[0;32m----> 4\u001b[0m     \u001b[38;5;28;01mreturn\u001b[39;00m \u001b[43mx\u001b[49m\u001b[43m \u001b[49m\u001b[38;5;241;43m/\u001b[39;49m\u001b[43m \u001b[49m\u001b[43my\u001b[49m\n",
      "\u001b[0;31mZeroDivisionError\u001b[0m: division by zero"
     ]
    }
   ],
   "source": [
    "#example of error\n",
    "\n",
    "def divide(x, y):\n",
    "    return x / y\n",
    "\n",
    "x = 10\n",
    "y = 0\n",
    "\n",
    "result = divide(x, y)\n",
    "print(result)\n"
   ]
  },
  {
   "cell_type": "markdown",
   "id": "07a0a243-547f-4106-a2a2-6ece42c00c04",
   "metadata": {},
   "source": [
    "\n",
    "In this code, we are trying to divide x by y, which will result in a ZeroDivisionError exception because dividing by zero is not allowed in mathematics. If this exception is not handled, the program will terminate with the above error message\n",
    "\n",
    "This error message provides information about the type of exception (ZeroDivisionError) and the location in the code where the exception was raised (line 2 of the divide function). This information can be useful for debugging the program and fixing the problem.\n",
    "\n",
    "It is generally a good practice to handle exceptions in your code so that the program can continue running even if an error occurs, instead of abruptly terminating. You can handle exceptions using a try-except block, which allows you to catch specific exceptions and perform specific actions in response to those exceptions."
   ]
  },
  {
   "cell_type": "markdown",
   "id": "cceccc96-2b8e-4491-bc7f-55635c8809e5",
   "metadata": {},
   "source": [
    "3) Which Python statements are used to catch and handle exceptions? Explain with an example."
   ]
  },
  {
   "cell_type": "markdown",
   "id": "c7c6d00f-17a1-41cd-9a1a-835af80ca5e2",
   "metadata": {},
   "source": [
    "The try and except statements in Python are used to catch and handle exceptions. The try statement is used to define a block of code that you want to monitor for exceptions, and the except statement is used to define the actions to take in response to exceptions that are raised in the try block.\n",
    "\n",
    "Here's an example that demonstrates how the try and except statements can be used to catch and handle exceptions:"
   ]
  },
  {
   "cell_type": "code",
   "execution_count": 3,
   "id": "e733fd7a-37c3-4e89-ba93-7db3916b00ad",
   "metadata": {},
   "outputs": [
    {
     "name": "stdout",
     "output_type": "stream",
     "text": [
      "Error: Cannot divide by zero.\n"
     ]
    }
   ],
   "source": [
    "try:\n",
    "    # code that might raise an exception\n",
    "    result = 10 / 0\n",
    "except ZeroDivisionError as e:\n",
    "    # code that will be executed if the exception is raised\n",
    "    print(\"Error: Cannot divide by zero.\")\n",
    "else:\n",
    "    # code that will be executed if no exception was raised\n",
    "    print(result)"
   ]
  },
  {
   "cell_type": "markdown",
   "id": "8bf3e5c6-ca05-4d7b-b537-cddc266ecc80",
   "metadata": {},
   "source": [
    "\n",
    "In this example, the code in the try block attempts to divide 10 by 0, which will result in a ZeroDivisionError exception. The except statement catches this exception and prints an error message. The else statement provides a block of code that will be executed if no exception was raised in the try block. In this case, the else block will not be executed because an exception was raised in the try block.\n",
    "\n",
    "You can also specify multiple except statements to handle different types of exceptions in different ways. For example:"
   ]
  },
  {
   "cell_type": "code",
   "execution_count": 4,
   "id": "7ee2511f-6740-456c-8eae-56e68e026861",
   "metadata": {},
   "outputs": [
    {
     "name": "stdout",
     "output_type": "stream",
     "text": [
      "Error: Invalid input. Please enter a number.\n"
     ]
    }
   ],
   "source": [
    "try:\n",
    "    # code that might raise an exception\n",
    "    x = int(\"abc\")\n",
    "except ValueError as e:\n",
    "    # code that will be executed if a ValueError is raised\n",
    "    print(\"Error: Invalid input. Please enter a number.\")\n",
    "except ZeroDivisionError as e:\n",
    "    # code that will be executed if a ZeroDivisionError is raised\n",
    "    print(\"Error: Cannot divide by zero.\")\n",
    "else:\n",
    "    # code that will be executed if no exception was raised\n",
    "    print(x)"
   ]
  },
  {
   "cell_type": "markdown",
   "id": "f0dbed58-36b0-4efd-a520-ef6a4b2d1a48",
   "metadata": {},
   "source": [
    "In this example, the code in the try block attempts to convert a string to an integer, which will result in a ValueError exception. The first except statement catches this exception and prints an error message. The second except statement catches a ZeroDivisionError exception, but this exception will not be raised in this example. The else statement provides a block of code that will be executed if no exception was raised in the try block."
   ]
  },
  {
   "cell_type": "markdown",
   "id": "8974af76-fed4-4fdf-b2c7-48af7c8d0b47",
   "metadata": {},
   "source": [
    "4) Explain with an example\n",
    "a)try and else\n",
    "b)finally\n",
    "c)raise"
   ]
  },
  {
   "cell_type": "code",
   "execution_count": 5,
   "id": "829b264d-c5d0-4c54-916c-472bf5c23221",
   "metadata": {},
   "outputs": [
    {
     "name": "stdout",
     "output_type": "stream",
     "text": [
      "5.0\n"
     ]
    }
   ],
   "source": [
    "try:\n",
    "    # code that might raise an exception\n",
    "    result = 10 / 2\n",
    "except ZeroDivisionError as e:\n",
    "    # code that will be executed if an exception is raised\n",
    "    print(\"Error: Cannot divide by zero.\")\n",
    "else:\n",
    "    # code that will be executed if no exception was raised\n",
    "    print(result)"
   ]
  },
  {
   "cell_type": "markdown",
   "id": "4041f743-bf60-4497-b767-25a97970fd30",
   "metadata": {},
   "source": [
    "In this example, the code in the try block divides 10 by 2. Since this operation does not result in an exception, the code in the else block will be executed and will print the result (5).\n",
    "\n",
    "Here's an example that demonstrates the finally statement:"
   ]
  },
  {
   "cell_type": "code",
   "execution_count": 6,
   "id": "57833ca9-2a09-4edd-bc33-ed634d5bae08",
   "metadata": {},
   "outputs": [
    {
     "name": "stdout",
     "output_type": "stream",
     "text": [
      "Error: Cannot divide by zero.\n",
      "Finally block executed.\n"
     ]
    }
   ],
   "source": [
    "\n",
    "try:\n",
    "    # code that might raise an exception\n",
    "    result = 10 / 0\n",
    "except ZeroDivisionError as e:\n",
    "    # code that will be executed if an exception is raised\n",
    "    print(\"Error: Cannot divide by zero.\")\n",
    "finally:\n",
    "    # code that will always be executed, regardless of whether an exception was raised or not\n",
    "    print(\"Finally block executed.\")"
   ]
  },
  {
   "cell_type": "markdown",
   "id": "ce4ad909-92dd-4c74-a5f8-c181f267789f",
   "metadata": {},
   "source": [
    "In this example, the code in the try block attempts to divide 10 by 0, which will result in a ZeroDivisionError exception. The except statement catches this exception and prints an error message. The finally block provides code that will always be executed, regardless of whether an exception was raised or not. In this case, the finally block will print a message indicating that it was executed.\n",
    "\n",
    "Here's an example that demonstrates the raise statement:"
   ]
  },
  {
   "cell_type": "code",
   "execution_count": 8,
   "id": "ce2e57ea-e0b2-44a2-85ab-1af8b079384b",
   "metadata": {},
   "outputs": [
    {
     "name": "stdout",
     "output_type": "stream",
     "text": [
      "Error: Cannot divide by zero.\n"
     ]
    }
   ],
   "source": [
    "def divide(a, b):\n",
    "    if b == 0:\n",
    "        raise ValueError(\"Error: Cannot divide by zero.\")\n",
    "    return a / b\n",
    "\n",
    "try:\n",
    "    result = divide(10, 0)\n",
    "except ValueError as e:\n",
    "    print(e)"
   ]
  },
  {
   "cell_type": "markdown",
   "id": "691df5c7-ec8e-425f-a1d6-6fba5199ee04",
   "metadata": {},
   "source": [
    "In this example, the divide function raises a ValueError exception if the second argument is 0. The try-except block calls the divide function and catches the ValueError exception that is raised. The except block prints the error message that was included in the raise statement. This way, the function can provide a more descriptive error message and handle the error in a controlled manner, instead of abruptly terminating the program."
   ]
  },
  {
   "cell_type": "markdown",
   "id": "046efe1f-4263-4ae5-9720-f817392e5264",
   "metadata": {},
   "source": [
    "5) What are custom exceptions in Python? Why do we need Custom Exceptions? Explain with an example"
   ]
  },
  {
   "cell_type": "markdown",
   "id": "c5d7d654-9665-40fa-8bdc-213d9d1bb555",
   "metadata": {},
   "source": [
    "In Python, you can create custom exceptions by defining a new class that inherits from the Exception class. Custom exceptions allow you to define specific exception types that can be raised and caught in your code.\n",
    "\n",
    "You need custom exceptions when you want to provide a more descriptive error message or want to handle specific error conditions in a different way. For example, if you're writing a function that performs a specific operation, you can define a custom exception for that function. If the operation fails, you can raise the custom exception and provide a detailed error message.\n",
    "\n",
    "Here's an example of a custom exception in Python:"
   ]
  },
  {
   "cell_type": "code",
   "execution_count": 11,
   "id": "b3b21b85-c660-46c9-824b-96309633625c",
   "metadata": {},
   "outputs": [
    {
     "name": "stdout",
     "output_type": "stream",
     "text": [
      "Error: Cannot divide by zero.\n"
     ]
    }
   ],
   "source": [
    "class InvalidInputError(Exception):\n",
    "    def __init__(self, message):\n",
    "        self.message = message\n",
    "\n",
    "def divide(a, b):\n",
    "    if b == 0:\n",
    "        raise InvalidInputError(\"Error: Cannot divide by zero.\")\n",
    "    return a / b\n",
    "\n",
    "try:\n",
    "    result = divide(10, 0)\n",
    "except InvalidInputError as e:\n",
    "    print(e.message)"
   ]
  },
  {
   "cell_type": "markdown",
   "id": "97853d9e-8add-48b6-8027-55653607db17",
   "metadata": {},
   "source": [
    "\n",
    "In this example, we define a custom exception InvalidInputError that inherits from the Exception class. The custom exception takes a message as an argument, which can be accessed using the message attribute. The divide function raises the InvalidInputError exception if the second argument is 0, providing a descriptive error message. The try-except block calls the divide function and catches the InvalidInputError exception. The except block prints the error message from the custom exception."
   ]
  },
  {
   "cell_type": "markdown",
   "id": "5bfa5c2f-9d18-4304-a90e-fd7cfc0a021b",
   "metadata": {},
   "source": [
    "6) Create a Custom Exception class. Use this class to handle an exception"
   ]
  },
  {
   "cell_type": "code",
   "execution_count": 12,
   "id": "a1468c63-a677-41b9-8697-9e9da354650b",
   "metadata": {},
   "outputs": [
    {
     "name": "stdout",
     "output_type": "stream",
     "text": [
      "Error: Cannot divide by zero.\n"
     ]
    }
   ],
   "source": [
    "class CustomException(Exception):\n",
    "    def __init__(self, message):\n",
    "        self.message = message\n",
    "\n",
    "def divide(a, b):\n",
    "    if b == 0:\n",
    "        raise CustomException(\"Error: Cannot divide by zero.\")\n",
    "    return a / b\n",
    "\n",
    "try:\n",
    "    result = divide(10, 0)\n",
    "except CustomException as e:\n",
    "    print(e.message)"
   ]
  },
  {
   "cell_type": "code",
   "execution_count": null,
   "id": "390bc5b7-5a20-4cf0-a810-694f72cb782a",
   "metadata": {},
   "outputs": [],
   "source": []
  }
 ],
 "metadata": {
  "kernelspec": {
   "display_name": "Python 3 (ipykernel)",
   "language": "python",
   "name": "python3"
  },
  "language_info": {
   "codemirror_mode": {
    "name": "ipython",
    "version": 3
   },
   "file_extension": ".py",
   "mimetype": "text/x-python",
   "name": "python",
   "nbconvert_exporter": "python",
   "pygments_lexer": "ipython3",
   "version": "3.10.8"
  }
 },
 "nbformat": 4,
 "nbformat_minor": 5
}
