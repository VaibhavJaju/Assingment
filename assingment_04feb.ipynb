{
 "cells": [
  {
   "cell_type": "code",
   "execution_count": 4,
   "id": "8155fd6b-62f3-4915-9336-1d3b002702a2",
   "metadata": {},
   "outputs": [
    {
     "name": "stdout",
     "output_type": "stream",
     "text": [
      "original list of tuples  [('Sachin Tendulkar', 34357), ('Ricky Ponting', 27483), ('Jack Kallis', 25534), ('Virat Kohli', 24936)]\n",
      "\n",
      " Sorted list of tuples: [('Virat Kohli', 24936), ('Jack Kallis', 25534), ('Ricky Ponting', 27483), ('Sachin Tendulkar', 34357)]\n"
     ]
    }
   ],
   "source": [
    "\"\"\"question 1\"\"\"\n",
    "\n",
    "t = [('Sachin Tendulkar', 34357), ('Ricky Ponting', 27483), ('Jack Kallis', 25534), ('Virat Kohli', 24936)] \n",
    "print(\"original list of tuples \",t)\n",
    "x = t.sort(key = lambda t:t[1])\n",
    "print(\"\\n Sorted list of tuples:\",t)"
   ]
  },
  {
   "cell_type": "code",
   "execution_count": 4,
   "id": "61271b4a-6890-4bc2-ba9f-6bd2ff6e563c",
   "metadata": {},
   "outputs": [
    {
     "name": "stdout",
     "output_type": "stream",
     "text": [
      "[1, 4, 9, 16, 25, 36, 49, 64, 81, 100]\n"
     ]
    }
   ],
   "source": [
    "\"\"\"Question2\"\"\"\n",
    "\n",
    "num_list = [1, 2, 3, 4, 5, 6, 7, 8, 9, 10] \n",
    "sqr_list = list(map(lambda x: x**2,num_list))\n",
    "print(sqr_list)"
   ]
  },
  {
   "cell_type": "code",
   "execution_count": 7,
   "id": "b049572b-f4bf-441f-b117-a035c143e4ac",
   "metadata": {},
   "outputs": [
    {
     "name": "stdout",
     "output_type": "stream",
     "text": [
      "('1', '2', '3', '4', '5', '6', '7', '8', '9', '10')\n"
     ]
    }
   ],
   "source": [
    "\"\"\"Question 3\"\"\"\n",
    "\n",
    "list1 = [1, 2, 3, 4, 5, 6, 7, 8, 9, 10] \n",
    "x=tuple(map(lambda num: f\"{num}\", list1))\n",
    "print(x)"
   ]
  },
  {
   "cell_type": "code",
   "execution_count": 8,
   "id": "fd8d803f-04fa-4d36-a3b2-d6d879e3ffe1",
   "metadata": {},
   "outputs": [
    {
     "name": "stdout",
     "output_type": "stream",
     "text": [
      "15511210043330985984000000\n"
     ]
    }
   ],
   "source": [
    "\"\"\"Question 4\"\"\"\n",
    "\n",
    "from functools import reduce\n",
    "\n",
    "list_numbers = []\n",
    "for i in range(1,26):\n",
    "    list_numbers.append(i)\n",
    "\n",
    "list_product = reduce(lambda x,y:x*y,list_numbers)\n",
    "print(list_product)"
   ]
  },
  {
   "cell_type": "code",
   "execution_count": 9,
   "id": "37a6455a-9ead-42ef-8921-e42a65a5b912",
   "metadata": {},
   "outputs": [
    {
     "name": "stdout",
     "output_type": "stream",
     "text": [
      "[6, 60, 90, 120]\n"
     ]
    }
   ],
   "source": [
    "\"\"\"Question 5\"\"\"\n",
    "numbers =[2, 3, 6, 9, 27, 60, 90, 120, 55, 46]\n",
    "new_list = list(filter(lambda x: x%2==0 and x%3==0,numbers))\n",
    "print(new_list)"
   ]
  },
  {
   "cell_type": "code",
   "execution_count": 10,
   "id": "0b529642-8ecf-4816-b53a-3816d58454cb",
   "metadata": {},
   "outputs": [
    {
     "name": "stdout",
     "output_type": "stream",
     "text": [
      "['php', 'aba', 'radar', 'level']\n"
     ]
    }
   ],
   "source": [
    "\"\"\"Question 6\"\"\"\n",
    "\n",
    "texts = ['python', 'php', 'aba', 'radar', 'level']\n",
    "result = list(filter(lambda x: (x == \"\".join(reversed(x))),texts))\n",
    "print(result)"
   ]
  },
  {
   "cell_type": "code",
   "execution_count": null,
   "id": "a23bc2cb-43f8-4c88-b282-a1f0933b8776",
   "metadata": {},
   "outputs": [],
   "source": []
  }
 ],
 "metadata": {
  "kernelspec": {
   "display_name": "Python 3 (ipykernel)",
   "language": "python",
   "name": "python3"
  },
  "language_info": {
   "codemirror_mode": {
    "name": "ipython",
    "version": 3
   },
   "file_extension": ".py",
   "mimetype": "text/x-python",
   "name": "python",
   "nbconvert_exporter": "python",
   "pygments_lexer": "ipython3",
   "version": "3.10.8"
  }
 },
 "nbformat": 4,
 "nbformat_minor": 5
}
